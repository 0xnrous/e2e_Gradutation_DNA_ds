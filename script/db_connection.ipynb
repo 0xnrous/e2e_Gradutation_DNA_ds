{
 "cells": [
  {
   "cell_type": "code",
   "execution_count": 1,
   "metadata": {},
   "outputs": [],
   "source": [
    "#!pip install pymongo"
   ]
  },
  {
   "cell_type": "code",
   "execution_count": 2,
   "metadata": {},
   "outputs": [],
   "source": [
    "import pymongo\n",
    "from pymongo import MongoClient\n",
    "import pandas as pd \n",
    "import numpy as np "
   ]
  },
  {
   "cell_type": "code",
   "execution_count": 3,
   "metadata": {},
   "outputs": [],
   "source": [
    "username = 'DinaAhmed'\n",
    "password = 'route123'\n",
    "cluster = 'cluster0.w8njcrd.mongodb.net'\n",
    "database_name = 'dna_test'"
   ]
  },
  {
   "cell_type": "code",
   "execution_count": 4,
   "metadata": {},
   "outputs": [],
   "source": [
    "db_connection_uri = f'mongodb+srv://{username}:{password}@{cluster}/{database_name}?retryWrites=true&w=majority'\n",
    "client = pymongo.MongoClient(db_connection_uri)"
   ]
  },
  {
   "cell_type": "code",
   "execution_count": 5,
   "metadata": {},
   "outputs": [],
   "source": [
    "# Access your database\n",
    "database = client['dna_test']"
   ]
  },
  {
   "cell_type": "code",
   "execution_count": 6,
   "metadata": {},
   "outputs": [],
   "source": [
    "hostname = 'cluster0.w8njcrd.mongodb.net'\n",
    "port = 27017  # Default MongoDB port\n",
    "\n",
    "# Create a MongoClient instance without authentication\n",
    "client = pymongo.MongoClient(hostname, port)"
   ]
  },
  {
   "cell_type": "code",
   "execution_count": 7,
   "metadata": {},
   "outputs": [],
   "source": [
    "# Access the \"populations\" collection\n",
    "collection = database['populations']"
   ]
  },
  {
   "cell_type": "code",
   "execution_count": 8,
   "metadata": {},
   "outputs": [],
   "source": [
    "records = collection.find_one()"
   ]
  },
  {
   "cell_type": "code",
   "execution_count": 9,
   "metadata": {},
   "outputs": [
    {
     "data": {
      "text/plain": [
       "dict_keys(['_id', 'lab_id', 'technical_id', 'DNA_sequence', 'name', 'address', 'national_id', 'phone', 'gender', 'birthdate', 'bloodType', 'status', 'description', 'createdAt', 'updatedAt', '__v'])"
      ]
     },
     "execution_count": 9,
     "metadata": {},
     "output_type": "execute_result"
    }
   ],
   "source": [
    "records.keys()"
   ]
  },
  {
   "cell_type": "code",
   "execution_count": 10,
   "metadata": {},
   "outputs": [],
   "source": [
    "cursor = collection.find({ }, \n",
    "                    {'name' : 1 ,\n",
    "                    'phone' : 1 ,\n",
    "                    'gender' : 1 ,\n",
    "                    'birthdate' : 1 ,\n",
    "                    'bloodType': 1 ,\n",
    "                    'status' : 1 ,\n",
    "                    'description': 1 , \n",
    "                    'createdAt' : 1 ,\n",
    "                    'updatedAt' : 1 , \n",
    "                    'DNA_sequence': 1})\n",
    "\n",
    "# ''' \n",
    "# {'_id': 0 , \n",
    "#          'lab_id': 0,\n",
    "#          'technical_id': 0 ,\n",
    "#          'DNA_sequence': 0 ,\n",
    "#          'name' : 1 ,\n",
    "#          'address': 1 ,\n",
    "#          'national_id' : 0 ,\n",
    "#          'phone' : 1 ,\n",
    "#          'gender' : 1 ,\n",
    "#          'birthdate' : 1 ,\n",
    "#          'bloodType': 1 ,\n",
    "        #  'status' : 1 ,\n",
    "        #  'description': 0 , \n",
    "        #  'createdAt' : 1 ,\n",
    "        #  'updatedAt' : 1 , \n",
    "        #  '__v' : 0\n",
    "#          }\n",
    "\n",
    "\n",
    "# '''\n",
    "\n",
    "# {'_id': 0 , \n",
    "#          'lab_id': 0,\n",
    "#          'technical_id': 0 ,\n",
    "#          'DNA_sequence': 0 ,\n",
    "#          'name' : 1 ,\n",
    "#          'address': 1 ,\n",
    "#          'national_id' : 0 ,\n",
    "#          'phone' : 1 ,\n",
    "#          'gender' : 1 ,\n",
    "#          'birthdate' : 1 ,\n",
    "#          'bloodType': 1 ,\n",
    "#          'status' : 1 ,\n",
    "#          'description': 0 , \n",
    "#          'createdAt' : 1 ,\n",
    "#          'updatedAt' : 1 , \n",
    "#          '__v' : 0\n",
    "#          }\n"
   ]
  },
  {
   "cell_type": "code",
   "execution_count": 11,
   "metadata": {},
   "outputs": [],
   "source": [
    "# show all mydoc data \n",
    "# for x in cursor:\n",
    "#     print(x)"
   ]
  },
  {
   "cell_type": "code",
   "execution_count": 12,
   "metadata": {},
   "outputs": [],
   "source": [
    "# # featch all the rows from the cursor\n",
    "# for row in cursor:\n",
    "#     print(row)"
   ]
  },
  {
   "cell_type": "markdown",
   "metadata": {},
   "source": [
    " 'name': 'Esraa Mohamed', 'address': '123 Main Street', 'national_id': '11944411174321', 'phone': '01035972115', 'gender': 'Male', 'birthdate': datetime.datetime(1990, 1, 1, 0, 0), 'bloodType': 'AB+', 'status': 'missing', 'description': 'Lorem ipsum dolor sit amet', 'createdAt': datetime.datetime(2024, 3, 7, 20, 38, 33, 858000), 'updatedAt': datetime.datetime(2024, 3, 7, 20, 38, 33, 858000), '__v': 0}"
   ]
  },
  {
   "cell_type": "code",
   "execution_count": 13,
   "metadata": {},
   "outputs": [
    {
     "data": {
      "text/html": [
       "<div>\n",
       "<style scoped>\n",
       "    .dataframe tbody tr th:only-of-type {\n",
       "        vertical-align: middle;\n",
       "    }\n",
       "\n",
       "    .dataframe tbody tr th {\n",
       "        vertical-align: top;\n",
       "    }\n",
       "\n",
       "    .dataframe thead th {\n",
       "        text-align: right;\n",
       "    }\n",
       "</style>\n",
       "<table border=\"1\" class=\"dataframe\">\n",
       "  <thead>\n",
       "    <tr style=\"text-align: right;\">\n",
       "      <th></th>\n",
       "      <th>name</th>\n",
       "      <th>phone</th>\n",
       "      <th>gender</th>\n",
       "      <th>birthdate</th>\n",
       "      <th>bloodType</th>\n",
       "      <th>status</th>\n",
       "      <th>description</th>\n",
       "      <th>createdAt</th>\n",
       "      <th>updatedAt</th>\n",
       "      <th>DNA_sequence</th>\n",
       "    </tr>\n",
       "  </thead>\n",
       "  <tbody>\n",
       "    <tr>\n",
       "      <th>0</th>\n",
       "      <td>Esraa Mohamed</td>\n",
       "      <td>01035571115</td>\n",
       "      <td>Male</td>\n",
       "      <td>1990-01-01</td>\n",
       "      <td>AB+</td>\n",
       "      <td>missing</td>\n",
       "      <td>Lorem ipsum dolor sit amet</td>\n",
       "      <td>2024-03-07 00:00:28.873</td>\n",
       "      <td>2024-03-07 20:41:09.963</td>\n",
       "      <td>U2FsdGVkX18AV8tIrsRz4pek36ybAN/Zimj1PQNPMSTBz4...</td>\n",
       "    </tr>\n",
       "    <tr>\n",
       "      <th>1</th>\n",
       "      <td>Esraa Mohamed</td>\n",
       "      <td>01035972115</td>\n",
       "      <td>Male</td>\n",
       "      <td>1990-01-01</td>\n",
       "      <td>AB+</td>\n",
       "      <td>missing</td>\n",
       "      <td>Lorem ipsum dolor sit amet</td>\n",
       "      <td>2024-03-07 20:38:33.858</td>\n",
       "      <td>2024-03-07 20:38:33.858</td>\n",
       "      <td>U2FsdGVkX18KJFzYLRwPC0vA51V2eN7QonW/u4LqLdF9QW...</td>\n",
       "    </tr>\n",
       "  </tbody>\n",
       "</table>\n",
       "</div>"
      ],
      "text/plain": [
       "            name        phone gender  birthdate bloodType   status  \\\n",
       "0  Esraa Mohamed  01035571115   Male 1990-01-01       AB+  missing   \n",
       "1  Esraa Mohamed  01035972115   Male 1990-01-01       AB+  missing   \n",
       "\n",
       "                  description               createdAt               updatedAt  \\\n",
       "0  Lorem ipsum dolor sit amet 2024-03-07 00:00:28.873 2024-03-07 20:41:09.963   \n",
       "1  Lorem ipsum dolor sit amet 2024-03-07 20:38:33.858 2024-03-07 20:38:33.858   \n",
       "\n",
       "                                        DNA_sequence  \n",
       "0  U2FsdGVkX18AV8tIrsRz4pek36ybAN/Zimj1PQNPMSTBz4...  \n",
       "1  U2FsdGVkX18KJFzYLRwPC0vA51V2eN7QonW/u4LqLdF9QW...  "
      ]
     },
     "execution_count": 13,
     "metadata": {},
     "output_type": "execute_result"
    }
   ],
   "source": [
    "import pandas as pd\n",
    "\n",
    "# Initialize lists to store data\n",
    "name_list = []\n",
    "phone_list = []\n",
    "gender_list = []\n",
    "birthdate_list = []\n",
    "bloodType_list = []\n",
    "status_list = []\n",
    "description_list = []\n",
    "createdAt_list = []\n",
    "updatedAt_list = []\n",
    "DNA_sequence_list = []\n",
    "\n",
    "# Process rows from cursor\n",
    "for row in cursor:\n",
    "    name_list.append(row['name'])\n",
    "    phone_list.append(row['phone'])\n",
    "    gender_list.append(row['gender'])\n",
    "    birthdate_list.append(row['birthdate'])\n",
    "    bloodType_list.append(row['bloodType'])\n",
    "    status_list.append(row['status'])\n",
    "    description_list.append(row['description'])\n",
    "    createdAt_list.append(row['createdAt'])\n",
    "    updatedAt_list.append(row['updatedAt'])\n",
    "    DNA_sequence_list.append(row['DNA_sequence'])\n",
    "\n",
    "# Create a dictionary from lists\n",
    "data = {\n",
    "    'name': name_list,\n",
    "    'phone': phone_list,\n",
    "    'gender': gender_list,\n",
    "    'birthdate': birthdate_list,\n",
    "    'bloodType': bloodType_list,\n",
    "    'status': status_list,\n",
    "    'description': description_list,\n",
    "    'createdAt': createdAt_list,\n",
    "    'updatedAt': updatedAt_list,\n",
    "    'DNA_sequence': DNA_sequence_list\n",
    "}\n",
    "\n",
    "# Create DataFrame from dictionary\n",
    "db_df = pd.DataFrame(data)\n",
    "\n",
    "# Close cursor and client connections if needed\n",
    "\n",
    "# Return DataFrame\n",
    "db_df\n"
   ]
  },
  {
   "cell_type": "code",
   "execution_count": 14,
   "metadata": {},
   "outputs": [],
   "source": [
    "# close cursor and client connections\n",
    "cursor.close()\n",
    "client.close()"
   ]
  }
 ],
 "metadata": {
  "kernelspec": {
   "display_name": "Python 3",
   "language": "python",
   "name": "python3"
  },
  "language_info": {
   "codemirror_mode": {
    "name": "ipython",
    "version": 3
   },
   "file_extension": ".py",
   "mimetype": "text/x-python",
   "name": "python",
   "nbconvert_exporter": "python",
   "pygments_lexer": "ipython3",
   "version": "3.9.13"
  }
 },
 "nbformat": 4,
 "nbformat_minor": 2
}
