{
 "cells": [
  {
   "cell_type": "markdown",
   "metadata": {},
   "source": [
    "# <center> Data Augmentation </center>\n",
    "-----\n",
    "## <center> Step 2 <center>"
   ]
  },
  {
   "cell_type": "markdown",
   "metadata": {},
   "source": [
    "-------"
   ]
  },
  {
   "cell_type": "markdown",
   "metadata": {},
   "source": [
    "- we need to load more data for parents that are not in our dataset to overcome the limitation of our dataset also underfitting the model"
   ]
  },
  {
   "cell_type": "code",
   "execution_count": 1,
   "metadata": {},
   "outputs": [],
   "source": [
    "# Constants\n",
    "DATA_PATH_RAW = '../data/raw/EthE_data.csv'\n",
    "DATA_PATH_PROCESSED = '../data/processed/2_second_processed_merged_df.pkl'\n",
    "EXPORT_PATH = '../data/processed/final_processed_data.pkl'"
   ]
  },
  {
   "cell_type": "code",
   "execution_count": 2,
   "metadata": {},
   "outputs": [],
   "source": [
    "import pandas as pd \n",
    "import numpy as np"
   ]
  },
  {
   "cell_type": "code",
   "execution_count": 3,
   "metadata": {},
   "outputs": [
    {
     "data": {
      "text/html": [
       "<div>\n",
       "<style scoped>\n",
       "    .dataframe tbody tr th:only-of-type {\n",
       "        vertical-align: middle;\n",
       "    }\n",
       "\n",
       "    .dataframe tbody tr th {\n",
       "        vertical-align: top;\n",
       "    }\n",
       "\n",
       "    .dataframe thead th {\n",
       "        text-align: right;\n",
       "    }\n",
       "</style>\n",
       "<table border=\"1\" class=\"dataframe\">\n",
       "  <thead>\n",
       "    <tr style=\"text-align: right;\">\n",
       "      <th></th>\n",
       "      <th>Name</th>\n",
       "      <th>Gender</th>\n",
       "      <th>ParentM</th>\n",
       "      <th>ParentF</th>\n",
       "      <th>EthA</th>\n",
       "      <th>EthE</th>\n",
       "      <th>EthK</th>\n",
       "      <th>EthP</th>\n",
       "      <th>Allele1</th>\n",
       "      <th>Allele2</th>\n",
       "    </tr>\n",
       "  </thead>\n",
       "  <tbody>\n",
       "    <tr>\n",
       "      <th>3073</th>\n",
       "      <td>E3073</td>\n",
       "      <td>F</td>\n",
       "      <td>Na</td>\n",
       "      <td>Na</td>\n",
       "      <td>0</td>\n",
       "      <td>1</td>\n",
       "      <td>0</td>\n",
       "      <td>0</td>\n",
       "      <td>CTCCGTCGACGCTTTAGGGACATAGATGGGAGCTTTGATTCCCGTG...</td>\n",
       "      <td>CTCCGTCGACGCTTTAGGGACATAGATGAGAGCTCTGATTCCCGTG...</td>\n",
       "    </tr>\n",
       "    <tr>\n",
       "      <th>2930</th>\n",
       "      <td>E2930</td>\n",
       "      <td>F</td>\n",
       "      <td>Na</td>\n",
       "      <td>Na</td>\n",
       "      <td>0</td>\n",
       "      <td>1</td>\n",
       "      <td>0</td>\n",
       "      <td>0</td>\n",
       "      <td>CTCCGTCGACGCTTTAGGGAAATAGATGGGAGCTCTGATTCCTGTG...</td>\n",
       "      <td>CTCCGTCGACGCTTTAGGGACATAGATGGGGGCTCCGATTCCCGTG...</td>\n",
       "    </tr>\n",
       "    <tr>\n",
       "      <th>9950</th>\n",
       "      <td>E9950</td>\n",
       "      <td>M</td>\n",
       "      <td>Na</td>\n",
       "      <td>Na</td>\n",
       "      <td>0</td>\n",
       "      <td>1</td>\n",
       "      <td>0</td>\n",
       "      <td>0</td>\n",
       "      <td>CTCCGTCGACGCTTTAAGGACATGGATGGGAGCTCTGATTCCCGTG...</td>\n",
       "      <td>CTCCGTCGACGCTTTAAGGACATAGATGGGAGCTCCGATTCCCGTG...</td>\n",
       "    </tr>\n",
       "    <tr>\n",
       "      <th>12330</th>\n",
       "      <td>E12330</td>\n",
       "      <td>F</td>\n",
       "      <td>Na</td>\n",
       "      <td>Na</td>\n",
       "      <td>0</td>\n",
       "      <td>1</td>\n",
       "      <td>0</td>\n",
       "      <td>0</td>\n",
       "      <td>CTCCGTCGACGCTTTAGGGACATAGCTGGGAGTTCCGATTTCCGTG...</td>\n",
       "      <td>CTCCGTCGACGCTTTAGGGACATAGATGGGAGCTCTGATTCCCGTG...</td>\n",
       "    </tr>\n",
       "  </tbody>\n",
       "</table>\n",
       "</div>"
      ],
      "text/plain": [
       "         Name Gender ParentM ParentF  EthA  EthE  EthK  EthP  \\\n",
       "3073    E3073      F      Na      Na     0     1     0     0   \n",
       "2930    E2930      F      Na      Na     0     1     0     0   \n",
       "9950    E9950      M      Na      Na     0     1     0     0   \n",
       "12330  E12330      F      Na      Na     0     1     0     0   \n",
       "\n",
       "                                                 Allele1  \\\n",
       "3073   CTCCGTCGACGCTTTAGGGACATAGATGGGAGCTTTGATTCCCGTG...   \n",
       "2930   CTCCGTCGACGCTTTAGGGAAATAGATGGGAGCTCTGATTCCTGTG...   \n",
       "9950   CTCCGTCGACGCTTTAAGGACATGGATGGGAGCTCTGATTCCCGTG...   \n",
       "12330  CTCCGTCGACGCTTTAGGGACATAGCTGGGAGTTCCGATTTCCGTG...   \n",
       "\n",
       "                                                 Allele2  \n",
       "3073   CTCCGTCGACGCTTTAGGGACATAGATGAGAGCTCTGATTCCCGTG...  \n",
       "2930   CTCCGTCGACGCTTTAGGGACATAGATGGGGGCTCCGATTCCCGTG...  \n",
       "9950   CTCCGTCGACGCTTTAAGGACATAGATGGGAGCTCCGATTCCCGTG...  \n",
       "12330  CTCCGTCGACGCTTTAGGGACATAGATGGGAGCTCTGATTCCCGTG...  "
      ]
     },
     "execution_count": 3,
     "metadata": {},
     "output_type": "execute_result"
    }
   ],
   "source": [
    "e_raw_df = pd.read_csv(DATA_PATH_RAW)\n",
    "e_raw_df.sample(4)"
   ]
  },
  {
   "cell_type": "code",
   "execution_count": 4,
   "metadata": {},
   "outputs": [
    {
     "name": "stdout",
     "output_type": "stream",
     "text": [
      "<class 'pandas.core.frame.DataFrame'>\n",
      "RangeIndex: 15000 entries, 0 to 14999\n",
      "Data columns (total 10 columns):\n",
      " #   Column   Non-Null Count  Dtype \n",
      "---  ------   --------------  ----- \n",
      " 0   Name     15000 non-null  object\n",
      " 1   Gender   15000 non-null  object\n",
      " 2   ParentM  15000 non-null  object\n",
      " 3   ParentF  15000 non-null  object\n",
      " 4   EthA     15000 non-null  int64 \n",
      " 5   EthE     15000 non-null  int64 \n",
      " 6   EthK     15000 non-null  int64 \n",
      " 7   EthP     15000 non-null  int64 \n",
      " 8   Allele1  15000 non-null  object\n",
      " 9   Allele2  15000 non-null  object\n",
      "dtypes: int64(4), object(6)\n",
      "memory usage: 1.1+ MB\n"
     ]
    }
   ],
   "source": [
    "e_raw_df.info()"
   ]
  },
  {
   "cell_type": "code",
   "execution_count": 5,
   "metadata": {},
   "outputs": [],
   "source": [
    "e_raw_df['Parent_full_DNA_Seq'] = e_raw_df['Allele1'] + e_raw_df['Allele2']"
   ]
  },
  {
   "cell_type": "code",
   "execution_count": 6,
   "metadata": {},
   "outputs": [
    {
     "data": {
      "text/html": [
       "<div>\n",
       "<style scoped>\n",
       "    .dataframe tbody tr th:only-of-type {\n",
       "        vertical-align: middle;\n",
       "    }\n",
       "\n",
       "    .dataframe tbody tr th {\n",
       "        vertical-align: top;\n",
       "    }\n",
       "\n",
       "    .dataframe thead th {\n",
       "        text-align: right;\n",
       "    }\n",
       "</style>\n",
       "<table border=\"1\" class=\"dataframe\">\n",
       "  <thead>\n",
       "    <tr style=\"text-align: right;\">\n",
       "      <th></th>\n",
       "      <th>Name</th>\n",
       "      <th>Gender</th>\n",
       "      <th>ParentM</th>\n",
       "      <th>ParentF</th>\n",
       "      <th>EthA</th>\n",
       "      <th>EthE</th>\n",
       "      <th>EthK</th>\n",
       "      <th>EthP</th>\n",
       "      <th>Allele1</th>\n",
       "      <th>Allele2</th>\n",
       "      <th>Parent_full_DNA_Seq</th>\n",
       "    </tr>\n",
       "  </thead>\n",
       "  <tbody>\n",
       "    <tr>\n",
       "      <th>3959</th>\n",
       "      <td>E3959</td>\n",
       "      <td>M</td>\n",
       "      <td>Na</td>\n",
       "      <td>Na</td>\n",
       "      <td>0</td>\n",
       "      <td>1</td>\n",
       "      <td>0</td>\n",
       "      <td>0</td>\n",
       "      <td>CTCCGTTGACGCTTTAGGGACATAGATGGGGGCTCTGATTCCCATG...</td>\n",
       "      <td>CTCCGTCGACGCTTTAGGGACATAGATGGGGGCTCTGATCCCCGCG...</td>\n",
       "      <td>CTCCGTTGACGCTTTAGGGACATAGATGGGGGCTCTGATTCCCATG...</td>\n",
       "    </tr>\n",
       "    <tr>\n",
       "      <th>1256</th>\n",
       "      <td>E1256</td>\n",
       "      <td>M</td>\n",
       "      <td>Na</td>\n",
       "      <td>Na</td>\n",
       "      <td>0</td>\n",
       "      <td>1</td>\n",
       "      <td>0</td>\n",
       "      <td>0</td>\n",
       "      <td>CTTCGTCGACGCTTTAGGGCCATAGATGGGAGCTCTGATCCCCGTG...</td>\n",
       "      <td>CTCCGTCGACGCTTTAGGGACATAGATGGGGGCTCTGATTCCCGTA...</td>\n",
       "      <td>CTTCGTCGACGCTTTAGGGCCATAGATGGGAGCTCTGATCCCCGTG...</td>\n",
       "    </tr>\n",
       "  </tbody>\n",
       "</table>\n",
       "</div>"
      ],
      "text/plain": [
       "       Name Gender ParentM ParentF  EthA  EthE  EthK  EthP  \\\n",
       "3959  E3959      M      Na      Na     0     1     0     0   \n",
       "1256  E1256      M      Na      Na     0     1     0     0   \n",
       "\n",
       "                                                Allele1  \\\n",
       "3959  CTCCGTTGACGCTTTAGGGACATAGATGGGGGCTCTGATTCCCATG...   \n",
       "1256  CTTCGTCGACGCTTTAGGGCCATAGATGGGAGCTCTGATCCCCGTG...   \n",
       "\n",
       "                                                Allele2  \\\n",
       "3959  CTCCGTCGACGCTTTAGGGACATAGATGGGGGCTCTGATCCCCGCG...   \n",
       "1256  CTCCGTCGACGCTTTAGGGACATAGATGGGGGCTCTGATTCCCGTA...   \n",
       "\n",
       "                                    Parent_full_DNA_Seq  \n",
       "3959  CTCCGTTGACGCTTTAGGGACATAGATGGGGGCTCTGATTCCCATG...  \n",
       "1256  CTTCGTCGACGCTTTAGGGCCATAGATGGGAGCTCTGATCCCCGTG...  "
      ]
     },
     "execution_count": 6,
     "metadata": {},
     "output_type": "execute_result"
    }
   ],
   "source": [
    "e_raw_df.sample(2)"
   ]
  },
  {
   "cell_type": "code",
   "execution_count": 7,
   "metadata": {},
   "outputs": [],
   "source": [
    "e_raw_df_copy = e_raw_df[['Name', 'Parent_full_DNA_Seq']]"
   ]
  },
  {
   "cell_type": "code",
   "execution_count": 8,
   "metadata": {},
   "outputs": [
    {
     "name": "stderr",
     "output_type": "stream",
     "text": [
      "/var/folders/3z/w_2xtxjs7517xwd76c815h5c0000gn/T/ipykernel_52552/1249921608.py:1: SettingWithCopyWarning: \n",
      "A value is trying to be set on a copy of a slice from a DataFrame.\n",
      "Try using .loc[row_indexer,col_indexer] = value instead\n",
      "\n",
      "See the caveats in the documentation: https://pandas.pydata.org/pandas-docs/stable/user_guide/indexing.html#returning-a-view-versus-a-copy\n",
      "  e_raw_df_copy['target'] = 0\n"
     ]
    }
   ],
   "source": [
    "e_raw_df_copy['target'] = 0 "
   ]
  },
  {
   "cell_type": "code",
   "execution_count": 9,
   "metadata": {},
   "outputs": [
    {
     "data": {
      "text/html": [
       "<div>\n",
       "<style scoped>\n",
       "    .dataframe tbody tr th:only-of-type {\n",
       "        vertical-align: middle;\n",
       "    }\n",
       "\n",
       "    .dataframe tbody tr th {\n",
       "        vertical-align: top;\n",
       "    }\n",
       "\n",
       "    .dataframe thead th {\n",
       "        text-align: right;\n",
       "    }\n",
       "</style>\n",
       "<table border=\"1\" class=\"dataframe\">\n",
       "  <thead>\n",
       "    <tr style=\"text-align: right;\">\n",
       "      <th></th>\n",
       "      <th>Name</th>\n",
       "      <th>Parent_full_DNA_Seq</th>\n",
       "      <th>target</th>\n",
       "    </tr>\n",
       "  </thead>\n",
       "  <tbody>\n",
       "    <tr>\n",
       "      <th>2602</th>\n",
       "      <td>E2602</td>\n",
       "      <td>CTCCGTCGACGCTTTAGGGACATAGACGGAAGCTCCGATTCCCGTG...</td>\n",
       "      <td>0</td>\n",
       "    </tr>\n",
       "    <tr>\n",
       "      <th>13380</th>\n",
       "      <td>E13380</td>\n",
       "      <td>CTCCGTCGACACTTTAGGGACATAGATGGGAGCTCTGATTCCCGTG...</td>\n",
       "      <td>0</td>\n",
       "    </tr>\n",
       "    <tr>\n",
       "      <th>949</th>\n",
       "      <td>E949</td>\n",
       "      <td>CTCCGTCGACGCTTTAGGGACATAGATGGGAGCTCTGACTCCCGTG...</td>\n",
       "      <td>0</td>\n",
       "    </tr>\n",
       "    <tr>\n",
       "      <th>5844</th>\n",
       "      <td>E5844</td>\n",
       "      <td>CTCCGTCGACGCTTTAGAGACATAGATGGGATCTCCGATTCTCGTG...</td>\n",
       "      <td>0</td>\n",
       "    </tr>\n",
       "  </tbody>\n",
       "</table>\n",
       "</div>"
      ],
      "text/plain": [
       "         Name                                Parent_full_DNA_Seq  target\n",
       "2602    E2602  CTCCGTCGACGCTTTAGGGACATAGACGGAAGCTCCGATTCCCGTG...       0\n",
       "13380  E13380  CTCCGTCGACACTTTAGGGACATAGATGGGAGCTCTGATTCCCGTG...       0\n",
       "949      E949  CTCCGTCGACGCTTTAGGGACATAGATGGGAGCTCTGACTCCCGTG...       0\n",
       "5844    E5844  CTCCGTCGACGCTTTAGAGACATAGATGGGATCTCCGATTCTCGTG...       0"
      ]
     },
     "execution_count": 9,
     "metadata": {},
     "output_type": "execute_result"
    }
   ],
   "source": [
    "e_raw_df_copy.sample(4)"
   ]
  },
  {
   "cell_type": "code",
   "execution_count": 10,
   "metadata": {},
   "outputs": [],
   "source": [
    "second_processed_merged_df = pd.read_pickle(DATA_PATH_PROCESSED)"
   ]
  },
  {
   "cell_type": "code",
   "execution_count": 11,
   "metadata": {},
   "outputs": [],
   "source": [
    "final_processed_data = pd.concat([second_processed_merged_df , e_raw_df_copy])"
   ]
  },
  {
   "cell_type": "code",
   "execution_count": 12,
   "metadata": {},
   "outputs": [
    {
     "data": {
      "text/html": [
       "<div>\n",
       "<style scoped>\n",
       "    .dataframe tbody tr th:only-of-type {\n",
       "        vertical-align: middle;\n",
       "    }\n",
       "\n",
       "    .dataframe tbody tr th {\n",
       "        vertical-align: top;\n",
       "    }\n",
       "\n",
       "    .dataframe thead th {\n",
       "        text-align: right;\n",
       "    }\n",
       "</style>\n",
       "<table border=\"1\" class=\"dataframe\">\n",
       "  <thead>\n",
       "    <tr style=\"text-align: right;\">\n",
       "      <th></th>\n",
       "      <th>Name</th>\n",
       "      <th>Parent_full_DNA_Seq</th>\n",
       "      <th>Child_full_DNA_Seq</th>\n",
       "      <th>ParentM</th>\n",
       "      <th>ParentF</th>\n",
       "      <th>target</th>\n",
       "    </tr>\n",
       "  </thead>\n",
       "  <tbody>\n",
       "    <tr>\n",
       "      <th>0</th>\n",
       "      <td>A0</td>\n",
       "      <td>CTCCGTCGACGCTTTAGGGACATAGATGGGAGCTCTGATTCCCGTG...</td>\n",
       "      <td>CTCCGTCGACGCTTTAGGGACATAGATGGGAGCTCTGATTTCCGTG...</td>\n",
       "      <td>NaN</td>\n",
       "      <td>NaN</td>\n",
       "      <td>0</td>\n",
       "    </tr>\n",
       "    <tr>\n",
       "      <th>1</th>\n",
       "      <td>A0</td>\n",
       "      <td>CTCCGTCGACGCTTTAGGGACATAGATGGGAGCTCTGATTCCCGTG...</td>\n",
       "      <td>CTCCGTCGACGCTTTAGGGACATAGATGGGAGCTCTGATTTCCGTG...</td>\n",
       "      <td>NaN</td>\n",
       "      <td>NaN</td>\n",
       "      <td>0</td>\n",
       "    </tr>\n",
       "    <tr>\n",
       "      <th>2</th>\n",
       "      <td>A0</td>\n",
       "      <td>CTCCGTCGACGCTTTAGGGACATAGATGGGAGCTCTGATTCCCGTG...</td>\n",
       "      <td>CTCCGTCGACGCTTTAGGGACATAGATGGGAGCTCTGACTCCCGTG...</td>\n",
       "      <td>NaN</td>\n",
       "      <td>NaN</td>\n",
       "      <td>1</td>\n",
       "    </tr>\n",
       "    <tr>\n",
       "      <th>3</th>\n",
       "      <td>A0</td>\n",
       "      <td>CTCCGTCGACGCTTTAGGGACATAGATGGGAGCTCTGATTCCCGTG...</td>\n",
       "      <td>CTCCGTCGACGCTTTAGGGACATAGATGGGAGCTCTGATTTCCGTG...</td>\n",
       "      <td>NaN</td>\n",
       "      <td>NaN</td>\n",
       "      <td>1</td>\n",
       "    </tr>\n",
       "    <tr>\n",
       "      <th>4</th>\n",
       "      <td>A1</td>\n",
       "      <td>CTCCGTCGACGCTTTAGGGACATAGATGGGAGCTCTGATTCCCGTG...</td>\n",
       "      <td>CTCCGTCGACGCTTTAGGGACATAGATGGGAGCTCTGATTCCCGTG...</td>\n",
       "      <td>NaN</td>\n",
       "      <td>NaN</td>\n",
       "      <td>0</td>\n",
       "    </tr>\n",
       "    <tr>\n",
       "      <th>...</th>\n",
       "      <td>...</td>\n",
       "      <td>...</td>\n",
       "      <td>...</td>\n",
       "      <td>...</td>\n",
       "      <td>...</td>\n",
       "      <td>...</td>\n",
       "    </tr>\n",
       "    <tr>\n",
       "      <th>14995</th>\n",
       "      <td>E14995</td>\n",
       "      <td>CTCCGTCGACGCTTTAGGGACATAGATGGGAGCTCTGATTCCCGTG...</td>\n",
       "      <td>NaN</td>\n",
       "      <td>NaN</td>\n",
       "      <td>NaN</td>\n",
       "      <td>0</td>\n",
       "    </tr>\n",
       "    <tr>\n",
       "      <th>14996</th>\n",
       "      <td>E14996</td>\n",
       "      <td>CTCAGTCGACGCTTTAGGGACGTAGATGGGAGCTCTGATTCCCGTG...</td>\n",
       "      <td>NaN</td>\n",
       "      <td>NaN</td>\n",
       "      <td>NaN</td>\n",
       "      <td>0</td>\n",
       "    </tr>\n",
       "    <tr>\n",
       "      <th>14997</th>\n",
       "      <td>E14997</td>\n",
       "      <td>TTCCGTCGACGCTTCAGGGCCACAGATGGGGGCTCTGATTCCCGTG...</td>\n",
       "      <td>NaN</td>\n",
       "      <td>NaN</td>\n",
       "      <td>NaN</td>\n",
       "      <td>0</td>\n",
       "    </tr>\n",
       "    <tr>\n",
       "      <th>14998</th>\n",
       "      <td>E14998</td>\n",
       "      <td>CTCCGTCGACGCTTTAGGGACATGGATGGGAGCTCTGATTCCCGTG...</td>\n",
       "      <td>NaN</td>\n",
       "      <td>NaN</td>\n",
       "      <td>NaN</td>\n",
       "      <td>0</td>\n",
       "    </tr>\n",
       "    <tr>\n",
       "      <th>14999</th>\n",
       "      <td>E14999</td>\n",
       "      <td>CTCCGTCGACGCTTTAGGGACATAGATGGGAGCTCTGATTCCCATG...</td>\n",
       "      <td>NaN</td>\n",
       "      <td>NaN</td>\n",
       "      <td>NaN</td>\n",
       "      <td>0</td>\n",
       "    </tr>\n",
       "  </tbody>\n",
       "</table>\n",
       "<p>58784 rows × 6 columns</p>\n",
       "</div>"
      ],
      "text/plain": [
       "         Name                                Parent_full_DNA_Seq  \\\n",
       "0          A0  CTCCGTCGACGCTTTAGGGACATAGATGGGAGCTCTGATTCCCGTG...   \n",
       "1          A0  CTCCGTCGACGCTTTAGGGACATAGATGGGAGCTCTGATTCCCGTG...   \n",
       "2          A0  CTCCGTCGACGCTTTAGGGACATAGATGGGAGCTCTGATTCCCGTG...   \n",
       "3          A0  CTCCGTCGACGCTTTAGGGACATAGATGGGAGCTCTGATTCCCGTG...   \n",
       "4          A1  CTCCGTCGACGCTTTAGGGACATAGATGGGAGCTCTGATTCCCGTG...   \n",
       "...       ...                                                ...   \n",
       "14995  E14995  CTCCGTCGACGCTTTAGGGACATAGATGGGAGCTCTGATTCCCGTG...   \n",
       "14996  E14996  CTCAGTCGACGCTTTAGGGACGTAGATGGGAGCTCTGATTCCCGTG...   \n",
       "14997  E14997  TTCCGTCGACGCTTCAGGGCCACAGATGGGGGCTCTGATTCCCGTG...   \n",
       "14998  E14998  CTCCGTCGACGCTTTAGGGACATGGATGGGAGCTCTGATTCCCGTG...   \n",
       "14999  E14999  CTCCGTCGACGCTTTAGGGACATAGATGGGAGCTCTGATTCCCATG...   \n",
       "\n",
       "                                      Child_full_DNA_Seq ParentM ParentF  \\\n",
       "0      CTCCGTCGACGCTTTAGGGACATAGATGGGAGCTCTGATTTCCGTG...     NaN     NaN   \n",
       "1      CTCCGTCGACGCTTTAGGGACATAGATGGGAGCTCTGATTTCCGTG...     NaN     NaN   \n",
       "2      CTCCGTCGACGCTTTAGGGACATAGATGGGAGCTCTGACTCCCGTG...     NaN     NaN   \n",
       "3      CTCCGTCGACGCTTTAGGGACATAGATGGGAGCTCTGATTTCCGTG...     NaN     NaN   \n",
       "4      CTCCGTCGACGCTTTAGGGACATAGATGGGAGCTCTGATTCCCGTG...     NaN     NaN   \n",
       "...                                                  ...     ...     ...   \n",
       "14995                                                NaN     NaN     NaN   \n",
       "14996                                                NaN     NaN     NaN   \n",
       "14997                                                NaN     NaN     NaN   \n",
       "14998                                                NaN     NaN     NaN   \n",
       "14999                                                NaN     NaN     NaN   \n",
       "\n",
       "       target  \n",
       "0           0  \n",
       "1           0  \n",
       "2           1  \n",
       "3           1  \n",
       "4           0  \n",
       "...       ...  \n",
       "14995       0  \n",
       "14996       0  \n",
       "14997       0  \n",
       "14998       0  \n",
       "14999       0  \n",
       "\n",
       "[58784 rows x 6 columns]"
      ]
     },
     "execution_count": 12,
     "metadata": {},
     "output_type": "execute_result"
    }
   ],
   "source": [
    "final_processed_data"
   ]
  },
  {
   "cell_type": "code",
   "execution_count": 13,
   "metadata": {},
   "outputs": [
    {
     "data": {
      "text/plain": [
       "0    36985\n",
       "1    21799\n",
       "Name: target, dtype: int64"
      ]
     },
     "execution_count": 13,
     "metadata": {},
     "output_type": "execute_result"
    }
   ],
   "source": [
    "final_processed_data['target'].value_counts()"
   ]
  },
  {
   "cell_type": "code",
   "execution_count": 14,
   "metadata": {},
   "outputs": [],
   "source": [
    "final_processed_data.to_pickle(EXPORT_PATH)"
   ]
  }
 ],
 "metadata": {
  "kernelspec": {
   "display_name": "base",
   "language": "python",
   "name": "python3"
  },
  "language_info": {
   "codemirror_mode": {
    "name": "ipython",
    "version": 3
   },
   "file_extension": ".py",
   "mimetype": "text/x-python",
   "name": "python",
   "nbconvert_exporter": "python",
   "pygments_lexer": "ipython3",
   "version": "3.9.13"
  }
 },
 "nbformat": 4,
 "nbformat_minor": 2
}
