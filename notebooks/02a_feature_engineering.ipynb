{
 "cells": [
  {
   "cell_type": "markdown",
   "metadata": {},
   "source": [
    "# <center> Feature Engineering </center>"
   ]
  },
  {
   "cell_type": "markdown",
   "metadata": {},
   "source": [
    "## Problem Statement \n",
    "\n",
    "- The objective of this notebook is to perform feature extraction from the given dataset. Specifically, we aim to create a Likelihood Feature and generate a Target Label Feature based on the likelihood of paternity testing.\n",
    "\n",
    "## Feature Engineering Steps\n",
    "\n",
    "### 1. Creating a Likelihood Feature\n",
    "\n",
    "- By implementing the **compare_sequences** function to compare DNA sequences and calculate the likelihood of paternity based on matching alleles based on a statistical measure used to assess the probability of observing the provided sequences under different hypotheses.\n",
    "\n",
    "### 2. Generating a Target Label Feature\n",
    "- By utilizing the likelihood feature to generate a binary target label ( 0 , 1 ). The label is determined by a predefined threshold based on medical research.\n"
   ]
  },
  {
   "cell_type": "markdown",
   "metadata": {},
   "source": [
    "------"
   ]
  },
  {
   "cell_type": "code",
   "execution_count": 1,
   "metadata": {},
   "outputs": [],
   "source": [
    "# Constants\n",
    "DATA_PATH = '../data/processed/1_first_processed_merged_df.pkl'\n",
    "EXPORT_PATH = '../data/processed/2_second_processed_merged_df.pkl'"
   ]
  },
  {
   "cell_type": "code",
   "execution_count": 2,
   "metadata": {},
   "outputs": [],
   "source": [
    "import pandas as pd \n",
    "import numpy as np\n",
    "import logging \n",
    "import pickle"
   ]
  },
  {
   "cell_type": "markdown",
   "metadata": {},
   "source": [
    "## Read data"
   ]
  },
  {
   "cell_type": "code",
   "execution_count": 3,
   "metadata": {},
   "outputs": [],
   "source": [
    "first_processed_merged_df = pd.read_pickle(DATA_PATH)"
   ]
  },
  {
   "cell_type": "code",
   "execution_count": 4,
   "metadata": {},
   "outputs": [],
   "source": [
    "first_processed_merged_df_copy = first_processed_merged_df.copy()"
   ]
  },
  {
   "cell_type": "code",
   "execution_count": 6,
   "metadata": {},
   "outputs": [
    {
     "data": {
      "text/html": [
       "<div>\n",
       "<style scoped>\n",
       "    .dataframe tbody tr th:only-of-type {\n",
       "        vertical-align: middle;\n",
       "    }\n",
       "\n",
       "    .dataframe tbody tr th {\n",
       "        vertical-align: top;\n",
       "    }\n",
       "\n",
       "    .dataframe thead th {\n",
       "        text-align: right;\n",
       "    }\n",
       "</style>\n",
       "<table border=\"1\" class=\"dataframe\">\n",
       "  <thead>\n",
       "    <tr style=\"text-align: right;\">\n",
       "      <th></th>\n",
       "      <th>Name</th>\n",
       "      <th>Parent_full_DNA_Seq</th>\n",
       "      <th>Child_full_DNA_Seq</th>\n",
       "      <th>ParentM</th>\n",
       "      <th>ParentF</th>\n",
       "    </tr>\n",
       "  </thead>\n",
       "  <tbody>\n",
       "    <tr>\n",
       "      <th>5532</th>\n",
       "      <td>A3585</td>\n",
       "      <td>CTCCGTCGACGCTTTAGGGACATAGATGGGAGCTCTGATTCCCGTG...</td>\n",
       "      <td>CTCCGTCGACGCTTTAGGGACATAGATGGGAGCTCTGATTCCCGTG...</td>\n",
       "      <td>A3585</td>\n",
       "      <td>A790</td>\n",
       "    </tr>\n",
       "    <tr>\n",
       "      <th>414</th>\n",
       "      <td>A289</td>\n",
       "      <td>CTCCGTCGACGCTTTAGGGACATAGATGGGAGCTCTGATTCCCGTG...</td>\n",
       "      <td>CTCCGTCGACGCTTTAGGGACATAGATGGGAGCTCTTATTCCCGTG...</td>\n",
       "      <td>NaN</td>\n",
       "      <td>NaN</td>\n",
       "    </tr>\n",
       "    <tr>\n",
       "      <th>9337</th>\n",
       "      <td>A6199</td>\n",
       "      <td>CTCCGTCGACGCTTTAGGGACATAGATGGGAGCTCTGATTCCCGTG...</td>\n",
       "      <td>CTCCGTCGACGCTTTAGGGACATAGATGGGAGCTCTGATTCCCGTG...</td>\n",
       "      <td>NaN</td>\n",
       "      <td>NaN</td>\n",
       "    </tr>\n",
       "    <tr>\n",
       "      <th>12204</th>\n",
       "      <td>A8252</td>\n",
       "      <td>CTCCGTCGACGCTTTAGGGACATAGATGGGAGCTCTGATTCCCGTG...</td>\n",
       "      <td>CTCCGTCGACGCTTTAGGGACATAGATGGGAGCTCTGATTCCCGTG...</td>\n",
       "      <td>NaN</td>\n",
       "      <td>NaN</td>\n",
       "    </tr>\n",
       "  </tbody>\n",
       "</table>\n",
       "</div>"
      ],
      "text/plain": [
       "        Name                                Parent_full_DNA_Seq  \\\n",
       "5532   A3585  CTCCGTCGACGCTTTAGGGACATAGATGGGAGCTCTGATTCCCGTG...   \n",
       "414     A289  CTCCGTCGACGCTTTAGGGACATAGATGGGAGCTCTGATTCCCGTG...   \n",
       "9337   A6199  CTCCGTCGACGCTTTAGGGACATAGATGGGAGCTCTGATTCCCGTG...   \n",
       "12204  A8252  CTCCGTCGACGCTTTAGGGACATAGATGGGAGCTCTGATTCCCGTG...   \n",
       "\n",
       "                                      Child_full_DNA_Seq ParentM ParentF  \n",
       "5532   CTCCGTCGACGCTTTAGGGACATAGATGGGAGCTCTGATTCCCGTG...   A3585    A790  \n",
       "414    CTCCGTCGACGCTTTAGGGACATAGATGGGAGCTCTTATTCCCGTG...     NaN     NaN  \n",
       "9337   CTCCGTCGACGCTTTAGGGACATAGATGGGAGCTCTGATTCCCGTG...     NaN     NaN  \n",
       "12204  CTCCGTCGACGCTTTAGGGACATAGATGGGAGCTCTGATTCCCGTG...     NaN     NaN  "
      ]
     },
     "execution_count": 6,
     "metadata": {},
     "output_type": "execute_result"
    }
   ],
   "source": [
    "first_processed_merged_df_copy.sample(4)"
   ]
  },
  {
   "cell_type": "markdown",
   "metadata": {},
   "source": [
    "------"
   ]
  },
  {
   "cell_type": "markdown",
   "metadata": {},
   "source": [
    "## **Likelihood Ratio**"
   ]
  },
  {
   "cell_type": "markdown",
   "metadata": {},
   "source": [
    "### Compares two sequences (alleles) for a paternity test based on the likelihood Ratio\n",
    "\n",
    "- `comparing two sequences (alleles) in the context of a paternity test. The comparison is based on the Likelihood Ratio, a statistical measure used to assess the probability of observing the provided sequences under different hypotheses.`\n",
    " "
   ]
  },
  {
   "cell_type": "markdown",
   "metadata": {},
   "source": [
    "------"
   ]
  },
  {
   "cell_type": "code",
   "execution_count": 9,
   "metadata": {},
   "outputs": [
    {
     "name": "stdout",
     "output_type": "stream",
     "text": [
      "Likelihood of paternity: 69.03%\n"
     ]
    }
   ],
   "source": [
    "def calculate_likelihood_ratio(father_allele, child_allele):\n",
    "    \"\"\"\n",
    "    Calculate the likelihood ratio for paternity testing based on allele sequences.\n",
    "\n",
    "    Parameters:\n",
    "    - father_allele (str): Allele sequence of the father.\n",
    "    - child_allele (str): Allele sequence of the child.\n",
    "\n",
    "    Returns:\n",
    "    - likelihood_ratio (float): Likelihood ratio indicating the probability of paternity.\n",
    "    \"\"\"\n",
    "    match_count = 0\n",
    "    total_count = 0\n",
    "    length = len(father_allele) // 2\n",
    "\n",
    "    allel1_father = father_allele[:length]\n",
    "    allel2_father = father_allele[length:]\n",
    "\n",
    "    allel1_child = child_allele[:length]\n",
    "    allel2_child = child_allele[length:]\n",
    "\n",
    "    # Compare allel1 sequences of father and child\n",
    "    for i in range(len(allel1_father)):\n",
    "        if allel1_father[i] == allel1_child[i]:\n",
    "            match_count += 1\n",
    "        total_count += 1\n",
    "\n",
    "    # Compare allel2 sequences of father and child\n",
    "    for i in range(len(allel2_father)):\n",
    "        if allel2_father[i] == allel2_child[i]:\n",
    "            match_count += 1\n",
    "        total_count += 1\n",
    "\n",
    "    likelihood_ratio = (match_count / total_count) * 100\n",
    "    return round(likelihood_ratio, 2)\n",
    "\n",
    "# Example usage\n",
    "father_sequence = first_processed_merged_df_copy.iloc[10, 1]\n",
    "child_sequence = first_processed_merged_df_copy.iloc[10, 2]\n",
    "likelihood_ratio = calculate_likelihood_ratio(father_sequence, child_sequence)\n",
    "\n",
    "print(\"Likelihood of paternity: {:.2f}%\".format(likelihood_ratio))\n"
   ]
  },
  {
   "cell_type": "markdown",
   "metadata": {},
   "source": [
    "------"
   ]
  },
  {
   "cell_type": "markdown",
   "metadata": {},
   "source": [
    "## **Target Label**"
   ]
  },
  {
   "cell_type": "code",
   "execution_count": 10,
   "metadata": {},
   "outputs": [],
   "source": [
    "def get_target(second_processed_merged_df):\n",
    "    second_processed_merged_df['target'] = [1 if calculate_likelihood_ratio(i[1], i[2]) > 77 else 0 for i in first_processed_merged_df_copy.values]\n",
    "    return second_processed_merged_df"
   ]
  },
  {
   "cell_type": "code",
   "execution_count": 11,
   "metadata": {},
   "outputs": [],
   "source": [
    "second_processed_merged_df = get_target(first_processed_merged_df_copy)"
   ]
  },
  {
   "cell_type": "code",
   "execution_count": 12,
   "metadata": {},
   "outputs": [
    {
     "data": {
      "text/html": [
       "<div>\n",
       "<style scoped>\n",
       "    .dataframe tbody tr th:only-of-type {\n",
       "        vertical-align: middle;\n",
       "    }\n",
       "\n",
       "    .dataframe tbody tr th {\n",
       "        vertical-align: top;\n",
       "    }\n",
       "\n",
       "    .dataframe thead th {\n",
       "        text-align: right;\n",
       "    }\n",
       "</style>\n",
       "<table border=\"1\" class=\"dataframe\">\n",
       "  <thead>\n",
       "    <tr style=\"text-align: right;\">\n",
       "      <th></th>\n",
       "      <th>Name</th>\n",
       "      <th>Parent_full_DNA_Seq</th>\n",
       "      <th>Child_full_DNA_Seq</th>\n",
       "      <th>ParentM</th>\n",
       "      <th>ParentF</th>\n",
       "      <th>target</th>\n",
       "    </tr>\n",
       "  </thead>\n",
       "  <tbody>\n",
       "    <tr>\n",
       "      <th>1699</th>\n",
       "      <td>A1128</td>\n",
       "      <td>CTCCATCGACGCTTTAGGGACATAGATGGGAGCTCTGATTCCCGTG...</td>\n",
       "      <td>CTCCGTCGACGCTTTAGGGACATAGATGGGAGCTCTGATTCCCGTG...</td>\n",
       "      <td>NaN</td>\n",
       "      <td>NaN</td>\n",
       "      <td>1</td>\n",
       "    </tr>\n",
       "    <tr>\n",
       "      <th>159</th>\n",
       "      <td>A113</td>\n",
       "      <td>CTCCGTCGACGCTTTAGGGACATAGATGGGAGCTCTGATTCCCGTG...</td>\n",
       "      <td>CTCCGTCGACGCTTTAGGGACATAGATGGGAGCTCTGATTCCCGTG...</td>\n",
       "      <td>A113</td>\n",
       "      <td>A9557</td>\n",
       "      <td>1</td>\n",
       "    </tr>\n",
       "    <tr>\n",
       "      <th>7153</th>\n",
       "      <td>A4723</td>\n",
       "      <td>CTCCGTCGACGCTTTAGGGACATAGATGGGAGCTCTGATTCCCGTG...</td>\n",
       "      <td>CTCCGTCGACGCTTTAGGGACATAGATGGGAGCTCTGATTCCCGTG...</td>\n",
       "      <td>NaN</td>\n",
       "      <td>NaN</td>\n",
       "      <td>0</td>\n",
       "    </tr>\n",
       "    <tr>\n",
       "      <th>15930</th>\n",
       "      <td>A10761</td>\n",
       "      <td>CTCCGTCGACGCTTTAGGGACATAGATGGGAGCTCTGATTCCTGTG...</td>\n",
       "      <td>CTCCGTCGACGCTTTAGGGACATAGATGGGAGCTCTGACTCCTGTG...</td>\n",
       "      <td>NaN</td>\n",
       "      <td>NaN</td>\n",
       "      <td>1</td>\n",
       "    </tr>\n",
       "  </tbody>\n",
       "</table>\n",
       "</div>"
      ],
      "text/plain": [
       "         Name                                Parent_full_DNA_Seq  \\\n",
       "1699    A1128  CTCCATCGACGCTTTAGGGACATAGATGGGAGCTCTGATTCCCGTG...   \n",
       "159      A113  CTCCGTCGACGCTTTAGGGACATAGATGGGAGCTCTGATTCCCGTG...   \n",
       "7153    A4723  CTCCGTCGACGCTTTAGGGACATAGATGGGAGCTCTGATTCCCGTG...   \n",
       "15930  A10761  CTCCGTCGACGCTTTAGGGACATAGATGGGAGCTCTGATTCCTGTG...   \n",
       "\n",
       "                                      Child_full_DNA_Seq ParentM ParentF  \\\n",
       "1699   CTCCGTCGACGCTTTAGGGACATAGATGGGAGCTCTGATTCCCGTG...     NaN     NaN   \n",
       "159    CTCCGTCGACGCTTTAGGGACATAGATGGGAGCTCTGATTCCCGTG...    A113   A9557   \n",
       "7153   CTCCGTCGACGCTTTAGGGACATAGATGGGAGCTCTGATTCCCGTG...     NaN     NaN   \n",
       "15930  CTCCGTCGACGCTTTAGGGACATAGATGGGAGCTCTGACTCCTGTG...     NaN     NaN   \n",
       "\n",
       "       target  \n",
       "1699        1  \n",
       "159         1  \n",
       "7153        0  \n",
       "15930       1  "
      ]
     },
     "execution_count": 12,
     "metadata": {},
     "output_type": "execute_result"
    }
   ],
   "source": [
    "second_processed_merged_df.sample(4)"
   ]
  },
  {
   "cell_type": "code",
   "execution_count": 14,
   "metadata": {},
   "outputs": [
    {
     "data": {
      "text/plain": [
       "0    21985\n",
       "1    21799\n",
       "Name: target, dtype: int64"
      ]
     },
     "execution_count": 14,
     "metadata": {},
     "output_type": "execute_result"
    }
   ],
   "source": [
    "second_processed_merged_df['target'].value_counts()"
   ]
  },
  {
   "cell_type": "code",
   "execution_count": 13,
   "metadata": {},
   "outputs": [],
   "source": [
    "second_processed_merged_df.to_pickle(EXPORT_PATH)"
   ]
  }
 ],
 "metadata": {
  "kernelspec": {
   "display_name": "base",
   "language": "python",
   "name": "python3"
  },
  "language_info": {
   "codemirror_mode": {
    "name": "ipython",
    "version": 3
   },
   "file_extension": ".py",
   "mimetype": "text/x-python",
   "name": "python",
   "nbconvert_exporter": "python",
   "pygments_lexer": "ipython3",
   "version": "3.9.13"
  }
 },
 "nbformat": 4,
 "nbformat_minor": 2
}
