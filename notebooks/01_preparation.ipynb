{
 "cells": [
  {
   "cell_type": "markdown",
   "metadata": {},
   "source": [
    "# <center> Data Preparation </center>\n",
    "## <center> Step 1 <center>"
   ]
  },
  {
   "cell_type": "markdown",
   "metadata": {},
   "source": [
    "------"
   ]
  },
  {
   "cell_type": "code",
   "execution_count": 1,
   "metadata": {},
   "outputs": [],
   "source": [
    "# Constants\n",
    "DATA_PATH_CHILD  = '../data/raw/G2000_data.csv'\n",
    "DATA_PATH_PARENT = '../data/raw/EthA_data.csv'\n",
    "EXPORT_PATH = '../data/processed/1_first_processed_merged_df.pkl'\n",
    "FULL_SEQ = ['AA', 'AC', 'AG', 'AT', 'CA', 'CC', 'CG', 'CT', 'GA', 'GC', 'GG', 'GT', 'TA', 'TC', 'TG', 'TT']"
   ]
  },
  {
   "cell_type": "code",
   "execution_count": 2,
   "metadata": {},
   "outputs": [],
   "source": [
    "import pandas as pd \n",
    "import numpy as np\n",
    "import logging \n",
    "import pickle"
   ]
  },
  {
   "cell_type": "code",
   "execution_count": 3,
   "metadata": {},
   "outputs": [],
   "source": [
    "raw_df_child = pd.read_csv(DATA_PATH_CHILD)"
   ]
  },
  {
   "cell_type": "code",
   "execution_count": 4,
   "metadata": {},
   "outputs": [],
   "source": [
    "# Keeping copy of raw data\n",
    "df_child = raw_df_child.copy()"
   ]
  },
  {
   "cell_type": "code",
   "execution_count": 5,
   "metadata": {},
   "outputs": [],
   "source": [
    "raw_df_parent = pd.read_csv(DATA_PATH_PARENT)"
   ]
  },
  {
   "cell_type": "code",
   "execution_count": 6,
   "metadata": {},
   "outputs": [],
   "source": [
    "df_parent = raw_df_parent.copy()"
   ]
  },
  {
   "cell_type": "markdown",
   "metadata": {},
   "source": [
    "-----"
   ]
  },
  {
   "cell_type": "markdown",
   "metadata": {},
   "source": [
    "<center> - Creating a new column in the DataFrame and assigning values based on concatenating the values from two existing columns <center>"
   ]
  },
  {
   "cell_type": "markdown",
   "metadata": {},
   "source": [
    "<center>** full sequence of alleles **</center>"
   ]
  },
  {
   "cell_type": "markdown",
   "metadata": {},
   "source": [
    "-----"
   ]
  },
  {
   "cell_type": "code",
   "execution_count": 7,
   "metadata": {},
   "outputs": [],
   "source": [
    "# Childern full sequence of alleles\n",
    "df_child['Child_full_DNA_Seq']= df_child['Allele1'] + df_child['Allele2']"
   ]
  },
  {
   "cell_type": "code",
   "execution_count": 8,
   "metadata": {},
   "outputs": [],
   "source": [
    "df_parent['Parent_full_DNA_Seq']= df_parent['Allele1'] + df_parent['Allele2']"
   ]
  },
  {
   "cell_type": "code",
   "execution_count": 9,
   "metadata": {},
   "outputs": [],
   "source": [
    "# make copy of G2000 ['ParentM','ParentF','Child_full_DNA_Seq']\n",
    "df_child_data_copy = df_child[['ParentM','ParentF','Child_full_DNA_Seq']]"
   ]
  },
  {
   "cell_type": "code",
   "execution_count": 10,
   "metadata": {},
   "outputs": [
    {
     "data": {
      "text/html": [
       "<div>\n",
       "<style scoped>\n",
       "    .dataframe tbody tr th:only-of-type {\n",
       "        vertical-align: middle;\n",
       "    }\n",
       "\n",
       "    .dataframe tbody tr th {\n",
       "        vertical-align: top;\n",
       "    }\n",
       "\n",
       "    .dataframe thead th {\n",
       "        text-align: right;\n",
       "    }\n",
       "</style>\n",
       "<table border=\"1\" class=\"dataframe\">\n",
       "  <thead>\n",
       "    <tr style=\"text-align: right;\">\n",
       "      <th></th>\n",
       "      <th>ParentM</th>\n",
       "      <th>ParentF</th>\n",
       "      <th>Child_full_DNA_Seq</th>\n",
       "    </tr>\n",
       "  </thead>\n",
       "  <tbody>\n",
       "    <tr>\n",
       "      <th>16273</th>\n",
       "      <td>A1680</td>\n",
       "      <td>A11962</td>\n",
       "      <td>CTCCGTCGACGCTTTAGGGACATAGATGGGAGCTCTGATTCCCGTA...</td>\n",
       "    </tr>\n",
       "    <tr>\n",
       "      <th>19141</th>\n",
       "      <td>A1917</td>\n",
       "      <td>A14038</td>\n",
       "      <td>CTCCGTCGGCGCTTTAGGGACATAGATGGGAGCTCTGATTCCCGTG...</td>\n",
       "    </tr>\n",
       "    <tr>\n",
       "      <th>158</th>\n",
       "      <td>A8477</td>\n",
       "      <td>A5993</td>\n",
       "      <td>CTCCGTCGACGCTTTAGGGACATAGATGGGAGCTCTGATTCCCGTG...</td>\n",
       "    </tr>\n",
       "    <tr>\n",
       "      <th>1369</th>\n",
       "      <td>A3260</td>\n",
       "      <td>A14058</td>\n",
       "      <td>CTCCGTCGACGCTTTAGGGACATAGATGGGAGCTCTGATTCCCGTG...</td>\n",
       "    </tr>\n",
       "    <tr>\n",
       "      <th>17641</th>\n",
       "      <td>A12192</td>\n",
       "      <td>A6303</td>\n",
       "      <td>CTCCGTCGACGCTTTAGGGACATAGATGGGAGCTCTGATTCCCGTG...</td>\n",
       "    </tr>\n",
       "    <tr>\n",
       "      <th>3684</th>\n",
       "      <td>A12934</td>\n",
       "      <td>A13770</td>\n",
       "      <td>CTCCGTCGACGCTTTAGGGACATAGATGGGAGCTCTGATTCCCGTG...</td>\n",
       "    </tr>\n",
       "    <tr>\n",
       "      <th>366</th>\n",
       "      <td>A11021</td>\n",
       "      <td>A10123</td>\n",
       "      <td>CTCCATCGACGCTTTAGGGACATAGATGGGAGCTCTGATTCCCGTG...</td>\n",
       "    </tr>\n",
       "    <tr>\n",
       "      <th>13854</th>\n",
       "      <td>A5191</td>\n",
       "      <td>A9361</td>\n",
       "      <td>CTCCATCGACGCTTTAGGGACATAGATGGGAGCTCTGATTCCCGTG...</td>\n",
       "    </tr>\n",
       "    <tr>\n",
       "      <th>234</th>\n",
       "      <td>A11680</td>\n",
       "      <td>A11226</td>\n",
       "      <td>CTCCGTCGACGCTTTAGGGACATAGATGGGAGCTCTGATTCCCGTG...</td>\n",
       "    </tr>\n",
       "    <tr>\n",
       "      <th>9337</th>\n",
       "      <td>A2493</td>\n",
       "      <td>A2160</td>\n",
       "      <td>CTCCGTCGACGCTTTAGGGACATAGATGGGAGCTCTGATTCCCGTG...</td>\n",
       "    </tr>\n",
       "  </tbody>\n",
       "</table>\n",
       "</div>"
      ],
      "text/plain": [
       "      ParentM ParentF                                 Child_full_DNA_Seq\n",
       "16273   A1680  A11962  CTCCGTCGACGCTTTAGGGACATAGATGGGAGCTCTGATTCCCGTA...\n",
       "19141   A1917  A14038  CTCCGTCGGCGCTTTAGGGACATAGATGGGAGCTCTGATTCCCGTG...\n",
       "158     A8477   A5993  CTCCGTCGACGCTTTAGGGACATAGATGGGAGCTCTGATTCCCGTG...\n",
       "1369    A3260  A14058  CTCCGTCGACGCTTTAGGGACATAGATGGGAGCTCTGATTCCCGTG...\n",
       "17641  A12192   A6303  CTCCGTCGACGCTTTAGGGACATAGATGGGAGCTCTGATTCCCGTG...\n",
       "3684   A12934  A13770  CTCCGTCGACGCTTTAGGGACATAGATGGGAGCTCTGATTCCCGTG...\n",
       "366    A11021  A10123  CTCCATCGACGCTTTAGGGACATAGATGGGAGCTCTGATTCCCGTG...\n",
       "13854   A5191   A9361  CTCCATCGACGCTTTAGGGACATAGATGGGAGCTCTGATTCCCGTG...\n",
       "234    A11680  A11226  CTCCGTCGACGCTTTAGGGACATAGATGGGAGCTCTGATTCCCGTG...\n",
       "9337    A2493   A2160  CTCCGTCGACGCTTTAGGGACATAGATGGGAGCTCTGATTCCCGTG..."
      ]
     },
     "execution_count": 10,
     "metadata": {},
     "output_type": "execute_result"
    }
   ],
   "source": [
    "# Display information of (df_child_data_copy) G2000 ['ParentM','ParentF','Child_full_DNA_Seq']\n",
    "df_child_data_copy.sample(10)"
   ]
  },
  {
   "cell_type": "code",
   "execution_count": 11,
   "metadata": {},
   "outputs": [],
   "source": [
    "# make copy of EthA ['Name','Parent_full_DNA_Seq']\n",
    "df_parent_data_copy = df_parent[['Name','Parent_full_DNA_Seq']]"
   ]
  },
  {
   "cell_type": "code",
   "execution_count": 12,
   "metadata": {},
   "outputs": [
    {
     "data": {
      "text/html": [
       "<div>\n",
       "<style scoped>\n",
       "    .dataframe tbody tr th:only-of-type {\n",
       "        vertical-align: middle;\n",
       "    }\n",
       "\n",
       "    .dataframe tbody tr th {\n",
       "        vertical-align: top;\n",
       "    }\n",
       "\n",
       "    .dataframe thead th {\n",
       "        text-align: right;\n",
       "    }\n",
       "</style>\n",
       "<table border=\"1\" class=\"dataframe\">\n",
       "  <thead>\n",
       "    <tr style=\"text-align: right;\">\n",
       "      <th></th>\n",
       "      <th>Name</th>\n",
       "      <th>Parent_full_DNA_Seq</th>\n",
       "    </tr>\n",
       "  </thead>\n",
       "  <tbody>\n",
       "    <tr>\n",
       "      <th>5884</th>\n",
       "      <td>A5884</td>\n",
       "      <td>CTCCGTCGACGCTTTAGGGACATAGATGGGAGCTCTGATTCCCGTG...</td>\n",
       "    </tr>\n",
       "    <tr>\n",
       "      <th>11505</th>\n",
       "      <td>A11505</td>\n",
       "      <td>CTCCGTCGACGCTTTAGGGACATAGATGGGAGCTCTGATTCCCGTG...</td>\n",
       "    </tr>\n",
       "    <tr>\n",
       "      <th>4752</th>\n",
       "      <td>A4752</td>\n",
       "      <td>CTCCGTCGACGCTTTAGGGACATAGATGGGAGCTCTGATTCCCGTG...</td>\n",
       "    </tr>\n",
       "    <tr>\n",
       "      <th>14917</th>\n",
       "      <td>A14917</td>\n",
       "      <td>CTCCGTCGACGCTTTAGGGACATAGATGGGAGCTCTGATTCCCGTG...</td>\n",
       "    </tr>\n",
       "    <tr>\n",
       "      <th>932</th>\n",
       "      <td>A932</td>\n",
       "      <td>CTCCGTCGACGCTTTAGGGACATAGATGGGAGCTCTTATTCCCGTG...</td>\n",
       "    </tr>\n",
       "    <tr>\n",
       "      <th>7970</th>\n",
       "      <td>A7970</td>\n",
       "      <td>CTCCGTCGACGCTTTAGGGACATAGATGGGAGCTCTGATTCCCGTG...</td>\n",
       "    </tr>\n",
       "    <tr>\n",
       "      <th>3259</th>\n",
       "      <td>A3259</td>\n",
       "      <td>CTCCGTCGACGCTTTAGGGACATAGATGGGAGCTCTGATTCCCGTG...</td>\n",
       "    </tr>\n",
       "    <tr>\n",
       "      <th>3209</th>\n",
       "      <td>A3209</td>\n",
       "      <td>CTCCGTCGACGCTTTAGGGACATAGATGGGAGCTCTGATTCCCGTG...</td>\n",
       "    </tr>\n",
       "    <tr>\n",
       "      <th>12999</th>\n",
       "      <td>A12999</td>\n",
       "      <td>CTCCGTCGACGCTTTAGGGACATAGATGGGAGCTCTGATTCCCGTG...</td>\n",
       "    </tr>\n",
       "    <tr>\n",
       "      <th>14986</th>\n",
       "      <td>A14986</td>\n",
       "      <td>CTCCGTCGACGCTTTAGGGACATAGATGGGAGCTCTGATTCCCGTG...</td>\n",
       "    </tr>\n",
       "  </tbody>\n",
       "</table>\n",
       "</div>"
      ],
      "text/plain": [
       "         Name                                Parent_full_DNA_Seq\n",
       "5884    A5884  CTCCGTCGACGCTTTAGGGACATAGATGGGAGCTCTGATTCCCGTG...\n",
       "11505  A11505  CTCCGTCGACGCTTTAGGGACATAGATGGGAGCTCTGATTCCCGTG...\n",
       "4752    A4752  CTCCGTCGACGCTTTAGGGACATAGATGGGAGCTCTGATTCCCGTG...\n",
       "14917  A14917  CTCCGTCGACGCTTTAGGGACATAGATGGGAGCTCTGATTCCCGTG...\n",
       "932      A932  CTCCGTCGACGCTTTAGGGACATAGATGGGAGCTCTTATTCCCGTG...\n",
       "7970    A7970  CTCCGTCGACGCTTTAGGGACATAGATGGGAGCTCTGATTCCCGTG...\n",
       "3259    A3259  CTCCGTCGACGCTTTAGGGACATAGATGGGAGCTCTGATTCCCGTG...\n",
       "3209    A3209  CTCCGTCGACGCTTTAGGGACATAGATGGGAGCTCTGATTCCCGTG...\n",
       "12999  A12999  CTCCGTCGACGCTTTAGGGACATAGATGGGAGCTCTGATTCCCGTG...\n",
       "14986  A14986  CTCCGTCGACGCTTTAGGGACATAGATGGGAGCTCTGATTCCCGTG..."
      ]
     },
     "execution_count": 12,
     "metadata": {},
     "output_type": "execute_result"
    }
   ],
   "source": [
    "df_parent_data_copy.sample(10)"
   ]
  },
  {
   "cell_type": "markdown",
   "metadata": {},
   "source": [
    "-----"
   ]
  },
  {
   "cell_type": "markdown",
   "metadata": {},
   "source": [
    "## **Merging Operation**"
   ]
  },
  {
   "cell_type": "markdown",
   "metadata": {},
   "source": [
    "-----"
   ]
  },
  {
   "cell_type": "markdown",
   "metadata": {},
   "source": [
    "**Merging :**\n",
    "\n",
    "Merge the dataframes using the `Name` column as the key. The key column for merging is located in the `df_parent` dataframe.\n"
   ]
  },
  {
   "cell_type": "markdown",
   "metadata": {},
   "source": [
    "\n",
    "**Keys in `df_child` DataFrame:**\n",
    "\n",
    "- Left DataFrame Key (`left_on`): `Name`\n",
    "- Right DataFrame Key (`right_on`): `Father or Mother`\n",
    "\n"
   ]
  },
  {
   "cell_type": "markdown",
   "metadata": {},
   "source": [
    "------"
   ]
  },
  {
   "cell_type": "code",
   "execution_count": 13,
   "metadata": {},
   "outputs": [],
   "source": [
    "# Merging Once with Father and Once with Mother\n",
    "parent_child_merge_father = pd.merge(df_parent_data_copy , df_child_data_copy , left_on = 'Name' , right_on= 'ParentF')\n",
    "parent_child_merge_mother = pd.merge(df_parent_data_copy , df_child_data_copy , left_on = 'Name' , right_on= 'ParentM')"
   ]
  },
  {
   "cell_type": "code",
   "execution_count": 14,
   "metadata": {},
   "outputs": [
    {
     "data": {
      "text/html": [
       "<div>\n",
       "<style scoped>\n",
       "    .dataframe tbody tr th:only-of-type {\n",
       "        vertical-align: middle;\n",
       "    }\n",
       "\n",
       "    .dataframe tbody tr th {\n",
       "        vertical-align: top;\n",
       "    }\n",
       "\n",
       "    .dataframe thead th {\n",
       "        text-align: right;\n",
       "    }\n",
       "</style>\n",
       "<table border=\"1\" class=\"dataframe\">\n",
       "  <thead>\n",
       "    <tr style=\"text-align: right;\">\n",
       "      <th></th>\n",
       "      <th>Name</th>\n",
       "      <th>Parent_full_DNA_Seq</th>\n",
       "      <th>ParentM</th>\n",
       "      <th>ParentF</th>\n",
       "      <th>Child_full_DNA_Seq</th>\n",
       "    </tr>\n",
       "  </thead>\n",
       "  <tbody>\n",
       "    <tr>\n",
       "      <th>11663</th>\n",
       "      <td>A7814</td>\n",
       "      <td>CTCCGTCGACGCTTTAGGGACATAGATGGGAGCTCTGATTCCCGTG...</td>\n",
       "      <td>A2684</td>\n",
       "      <td>A7814</td>\n",
       "      <td>CTCCGTCGACGCTTTAGGGACATAGATGGGAGCTCTGATTCCCGTG...</td>\n",
       "    </tr>\n",
       "    <tr>\n",
       "      <th>18319</th>\n",
       "      <td>A12610</td>\n",
       "      <td>CTCCGTCGACGCTTTAGGGACATAGATGGGAGCTCTGATTCCCGTG...</td>\n",
       "      <td>A3462</td>\n",
       "      <td>A12610</td>\n",
       "      <td>CTCCGTCGACGCTTTAGGGACATAGATGGGAGCTCTGATTCCCGTG...</td>\n",
       "    </tr>\n",
       "    <tr>\n",
       "      <th>21775</th>\n",
       "      <td>A14889</td>\n",
       "      <td>CTCCGTCGACGCTTTAGGGACATAGATGGGAGCTCTGATTCCCGTG...</td>\n",
       "      <td>A4109</td>\n",
       "      <td>A14889</td>\n",
       "      <td>CTCCGTCGACGCTTTAGGGACATAGATGGGAGCTCTGATTCCCGTG...</td>\n",
       "    </tr>\n",
       "    <tr>\n",
       "      <th>2516</th>\n",
       "      <td>A1725</td>\n",
       "      <td>CTCCGTCGACGCTTTAGGGACATAGATGGGAGCTCTGATTCCCGTG...</td>\n",
       "      <td>A8135</td>\n",
       "      <td>A1725</td>\n",
       "      <td>CTCCGTCGACGCTTTAGGGACATAGATGGGAGCTCTGATTCCCGTG...</td>\n",
       "    </tr>\n",
       "    <tr>\n",
       "      <th>17918</th>\n",
       "      <td>A12335</td>\n",
       "      <td>CTCCGTCGACGCTTTAGGGACATAGATGGGAGCTCTGATTCCCGTG...</td>\n",
       "      <td>A9819</td>\n",
       "      <td>A12335</td>\n",
       "      <td>CTCCGTCGACGCTTTAGGGACATAGATGGGAGCTCTGATTCCCGTG...</td>\n",
       "    </tr>\n",
       "    <tr>\n",
       "      <th>6366</th>\n",
       "      <td>A4209</td>\n",
       "      <td>CTCCGTCGACGCTTTAGGGACATAGATGGGAGCTCTGATTCCCGTG...</td>\n",
       "      <td>A8812</td>\n",
       "      <td>A4209</td>\n",
       "      <td>CTCCGTCGACGCTTTAGGGACATAGATGGGAGCTCTGATTCCCGTG...</td>\n",
       "    </tr>\n",
       "    <tr>\n",
       "      <th>8828</th>\n",
       "      <td>A5853</td>\n",
       "      <td>CTCCGTCGACGCTTTAGGGACATAGATGGGAGCTCTGATTCCCGTG...</td>\n",
       "      <td>A4696</td>\n",
       "      <td>A5853</td>\n",
       "      <td>CTCCGTCGACGCTTTAGGGACATAGATGGGAGCTCTGATTCCCGTG...</td>\n",
       "    </tr>\n",
       "    <tr>\n",
       "      <th>10034</th>\n",
       "      <td>A6667</td>\n",
       "      <td>CTCCGTCGACGCTTTAGGGACATAGATGGGAGCTCTGATTCCCGTG...</td>\n",
       "      <td>A7413</td>\n",
       "      <td>A6667</td>\n",
       "      <td>CTCCGTCGACGCTTTAGGGACATAGATGGGAGCTCTGATTCCCGTG...</td>\n",
       "    </tr>\n",
       "    <tr>\n",
       "      <th>15200</th>\n",
       "      <td>A10289</td>\n",
       "      <td>CTCCGTCGACGCTTTAGGGACATAGATGGGAGCTCTGATTCCCGTG...</td>\n",
       "      <td>A2608</td>\n",
       "      <td>A10289</td>\n",
       "      <td>CTCCGTCGACGCTTTAGGGACATAGATGGGAGCTCTGATTCCCGTG...</td>\n",
       "    </tr>\n",
       "    <tr>\n",
       "      <th>5464</th>\n",
       "      <td>A3619</td>\n",
       "      <td>CTCCGTCGACGCTTTAGGGACATAGATGGGAGCTCTGATTCCCGTG...</td>\n",
       "      <td>A14171</td>\n",
       "      <td>A3619</td>\n",
       "      <td>CTCCGTCGACGCTTTAGGGACATAGATGGGAGCTCTGATTCCCGTG...</td>\n",
       "    </tr>\n",
       "  </tbody>\n",
       "</table>\n",
       "</div>"
      ],
      "text/plain": [
       "         Name                                Parent_full_DNA_Seq ParentM  \\\n",
       "11663   A7814  CTCCGTCGACGCTTTAGGGACATAGATGGGAGCTCTGATTCCCGTG...   A2684   \n",
       "18319  A12610  CTCCGTCGACGCTTTAGGGACATAGATGGGAGCTCTGATTCCCGTG...   A3462   \n",
       "21775  A14889  CTCCGTCGACGCTTTAGGGACATAGATGGGAGCTCTGATTCCCGTG...   A4109   \n",
       "2516    A1725  CTCCGTCGACGCTTTAGGGACATAGATGGGAGCTCTGATTCCCGTG...   A8135   \n",
       "17918  A12335  CTCCGTCGACGCTTTAGGGACATAGATGGGAGCTCTGATTCCCGTG...   A9819   \n",
       "6366    A4209  CTCCGTCGACGCTTTAGGGACATAGATGGGAGCTCTGATTCCCGTG...   A8812   \n",
       "8828    A5853  CTCCGTCGACGCTTTAGGGACATAGATGGGAGCTCTGATTCCCGTG...   A4696   \n",
       "10034   A6667  CTCCGTCGACGCTTTAGGGACATAGATGGGAGCTCTGATTCCCGTG...   A7413   \n",
       "15200  A10289  CTCCGTCGACGCTTTAGGGACATAGATGGGAGCTCTGATTCCCGTG...   A2608   \n",
       "5464    A3619  CTCCGTCGACGCTTTAGGGACATAGATGGGAGCTCTGATTCCCGTG...  A14171   \n",
       "\n",
       "      ParentF                                 Child_full_DNA_Seq  \n",
       "11663   A7814  CTCCGTCGACGCTTTAGGGACATAGATGGGAGCTCTGATTCCCGTG...  \n",
       "18319  A12610  CTCCGTCGACGCTTTAGGGACATAGATGGGAGCTCTGATTCCCGTG...  \n",
       "21775  A14889  CTCCGTCGACGCTTTAGGGACATAGATGGGAGCTCTGATTCCCGTG...  \n",
       "2516    A1725  CTCCGTCGACGCTTTAGGGACATAGATGGGAGCTCTGATTCCCGTG...  \n",
       "17918  A12335  CTCCGTCGACGCTTTAGGGACATAGATGGGAGCTCTGATTCCCGTG...  \n",
       "6366    A4209  CTCCGTCGACGCTTTAGGGACATAGATGGGAGCTCTGATTCCCGTG...  \n",
       "8828    A5853  CTCCGTCGACGCTTTAGGGACATAGATGGGAGCTCTGATTCCCGTG...  \n",
       "10034   A6667  CTCCGTCGACGCTTTAGGGACATAGATGGGAGCTCTGATTCCCGTG...  \n",
       "15200  A10289  CTCCGTCGACGCTTTAGGGACATAGATGGGAGCTCTGATTCCCGTG...  \n",
       "5464    A3619  CTCCGTCGACGCTTTAGGGACATAGATGGGAGCTCTGATTCCCGTG...  "
      ]
     },
     "execution_count": 14,
     "metadata": {},
     "output_type": "execute_result"
    }
   ],
   "source": [
    "# check each dataframe\n",
    "parent_child_merge_father.sample(10)"
   ]
  },
  {
   "cell_type": "markdown",
   "metadata": {},
   "source": [
    "-----"
   ]
  },
  {
   "cell_type": "markdown",
   "metadata": {},
   "source": [
    "- ` here when we chech example row 1 we see that Name = 'A5643' and ParentF = 'A5643' and ParentM = 'A5036'`\n",
    "\n",
    "- ` From this we can say that they are the same person`\n",
    "\n",
    "- ` From data source they say that Name is unique identifier for a person`\n",
    "\n",
    "- ` Finally, we conclude that Name is Father of the child ` "
   ]
  },
  {
   "cell_type": "markdown",
   "metadata": {},
   "source": [
    "------"
   ]
  },
  {
   "cell_type": "code",
   "execution_count": 15,
   "metadata": {},
   "outputs": [
    {
     "data": {
      "text/html": [
       "<div>\n",
       "<style scoped>\n",
       "    .dataframe tbody tr th:only-of-type {\n",
       "        vertical-align: middle;\n",
       "    }\n",
       "\n",
       "    .dataframe tbody tr th {\n",
       "        vertical-align: top;\n",
       "    }\n",
       "\n",
       "    .dataframe thead th {\n",
       "        text-align: right;\n",
       "    }\n",
       "</style>\n",
       "<table border=\"1\" class=\"dataframe\">\n",
       "  <thead>\n",
       "    <tr style=\"text-align: right;\">\n",
       "      <th></th>\n",
       "      <th>Name</th>\n",
       "      <th>Parent_full_DNA_Seq</th>\n",
       "      <th>ParentM</th>\n",
       "      <th>ParentF</th>\n",
       "      <th>Child_full_DNA_Seq</th>\n",
       "    </tr>\n",
       "  </thead>\n",
       "  <tbody>\n",
       "    <tr>\n",
       "      <th>4628</th>\n",
       "      <td>A2947</td>\n",
       "      <td>CTCCGTCGACGCTTTAGGGACATAGATGGGAGCTCTGATTCCCGTG...</td>\n",
       "      <td>A2947</td>\n",
       "      <td>A2989</td>\n",
       "      <td>CTCCGTCGACGCTTTAGGGACATAGATGGGAGCTCTGATTCCCGTG...</td>\n",
       "    </tr>\n",
       "    <tr>\n",
       "      <th>3296</th>\n",
       "      <td>A2064</td>\n",
       "      <td>CTCCGTCGACGCTTTAGGGACATAGATGGGAGCTCTGATTCCCGTG...</td>\n",
       "      <td>A2064</td>\n",
       "      <td>A13409</td>\n",
       "      <td>CTCCGTCGACGCTTTAGGGACATAGATGGGAGCTCTGATTCCCGTG...</td>\n",
       "    </tr>\n",
       "    <tr>\n",
       "      <th>21803</th>\n",
       "      <td>A14952</td>\n",
       "      <td>CTCCGTCGACGCTTTAGGGACATAGATGGGAGCTCTGATTCCCGTG...</td>\n",
       "      <td>A14952</td>\n",
       "      <td>A8252</td>\n",
       "      <td>CTCCGTCGACGCTTTAGGGACATAGATGGGAGCTCTGATTCCCGTG...</td>\n",
       "    </tr>\n",
       "    <tr>\n",
       "      <th>10647</th>\n",
       "      <td>A7253</td>\n",
       "      <td>CTCCGTCGACGCTTTAGGGACATAGATGGGAGCTCTTATTCCCGTG...</td>\n",
       "      <td>A7253</td>\n",
       "      <td>A6087</td>\n",
       "      <td>CTCCGTCGACGCTTTAGGGACATAGATGGGAGCTCTTATTCCCGTG...</td>\n",
       "    </tr>\n",
       "    <tr>\n",
       "      <th>4670</th>\n",
       "      <td>A2963</td>\n",
       "      <td>CTCCGTCGACGCTTTAGGGACATAGATGGGAGCTCTGATCCCCGTG...</td>\n",
       "      <td>A2963</td>\n",
       "      <td>A7742</td>\n",
       "      <td>CTCCGTCGACGCTTTAGGGACATAGATGGGAGCTCTGATTCCCGTG...</td>\n",
       "    </tr>\n",
       "    <tr>\n",
       "      <th>3810</th>\n",
       "      <td>A2378</td>\n",
       "      <td>CTCCGTCGACGCTTTAGGGACATAGATGGGAGCTCTGATTCCCGTG...</td>\n",
       "      <td>A2378</td>\n",
       "      <td>A4790</td>\n",
       "      <td>CTCCGTCGACGCTTTAGGGACATAGATGGGAGCTCTGATTCCCGTG...</td>\n",
       "    </tr>\n",
       "    <tr>\n",
       "      <th>671</th>\n",
       "      <td>A424</td>\n",
       "      <td>CTCCGTCGACGCTTTAGGGACATAGATGGGAGCTCTGATTCCCGTG...</td>\n",
       "      <td>A424</td>\n",
       "      <td>A3583</td>\n",
       "      <td>CTCCGTCGACGCTTTAGGGACATAGATGGGAGCTCTGATTCCCGTG...</td>\n",
       "    </tr>\n",
       "    <tr>\n",
       "      <th>3525</th>\n",
       "      <td>A2198</td>\n",
       "      <td>CTCCGTCGACGCTTTAGGGACATAGATGGGAGCTCTGATTCCCGTG...</td>\n",
       "      <td>A2198</td>\n",
       "      <td>A1138</td>\n",
       "      <td>CTCCGTCGACGCTTTAGGGACATAGATGGGAGCTCTGATTCCCGTG...</td>\n",
       "    </tr>\n",
       "    <tr>\n",
       "      <th>12322</th>\n",
       "      <td>A8417</td>\n",
       "      <td>CTCCGTCGACGCTTTAGGGACATAGATGGGAGCTCTTATTCCCGTG...</td>\n",
       "      <td>A8417</td>\n",
       "      <td>A11283</td>\n",
       "      <td>CTCCGTCGACGCTTTAGGGACATAGATGGGAGCTCTGATTCCCGTG...</td>\n",
       "    </tr>\n",
       "    <tr>\n",
       "      <th>6483</th>\n",
       "      <td>A4325</td>\n",
       "      <td>CTCCGTCGACGCTTTAGGGACATAGATGGGAGCTCTGATTCCCGTG...</td>\n",
       "      <td>A4325</td>\n",
       "      <td>A14853</td>\n",
       "      <td>CTCCGTCGACGCTTTAGGGACATAGATGGGAGCTCTGATTCCCGTG...</td>\n",
       "    </tr>\n",
       "  </tbody>\n",
       "</table>\n",
       "</div>"
      ],
      "text/plain": [
       "         Name                                Parent_full_DNA_Seq ParentM  \\\n",
       "4628    A2947  CTCCGTCGACGCTTTAGGGACATAGATGGGAGCTCTGATTCCCGTG...   A2947   \n",
       "3296    A2064  CTCCGTCGACGCTTTAGGGACATAGATGGGAGCTCTGATTCCCGTG...   A2064   \n",
       "21803  A14952  CTCCGTCGACGCTTTAGGGACATAGATGGGAGCTCTGATTCCCGTG...  A14952   \n",
       "10647   A7253  CTCCGTCGACGCTTTAGGGACATAGATGGGAGCTCTTATTCCCGTG...   A7253   \n",
       "4670    A2963  CTCCGTCGACGCTTTAGGGACATAGATGGGAGCTCTGATCCCCGTG...   A2963   \n",
       "3810    A2378  CTCCGTCGACGCTTTAGGGACATAGATGGGAGCTCTGATTCCCGTG...   A2378   \n",
       "671      A424  CTCCGTCGACGCTTTAGGGACATAGATGGGAGCTCTGATTCCCGTG...    A424   \n",
       "3525    A2198  CTCCGTCGACGCTTTAGGGACATAGATGGGAGCTCTGATTCCCGTG...   A2198   \n",
       "12322   A8417  CTCCGTCGACGCTTTAGGGACATAGATGGGAGCTCTTATTCCCGTG...   A8417   \n",
       "6483    A4325  CTCCGTCGACGCTTTAGGGACATAGATGGGAGCTCTGATTCCCGTG...   A4325   \n",
       "\n",
       "      ParentF                                 Child_full_DNA_Seq  \n",
       "4628    A2989  CTCCGTCGACGCTTTAGGGACATAGATGGGAGCTCTGATTCCCGTG...  \n",
       "3296   A13409  CTCCGTCGACGCTTTAGGGACATAGATGGGAGCTCTGATTCCCGTG...  \n",
       "21803   A8252  CTCCGTCGACGCTTTAGGGACATAGATGGGAGCTCTGATTCCCGTG...  \n",
       "10647   A6087  CTCCGTCGACGCTTTAGGGACATAGATGGGAGCTCTTATTCCCGTG...  \n",
       "4670    A7742  CTCCGTCGACGCTTTAGGGACATAGATGGGAGCTCTGATTCCCGTG...  \n",
       "3810    A4790  CTCCGTCGACGCTTTAGGGACATAGATGGGAGCTCTGATTCCCGTG...  \n",
       "671     A3583  CTCCGTCGACGCTTTAGGGACATAGATGGGAGCTCTGATTCCCGTG...  \n",
       "3525    A1138  CTCCGTCGACGCTTTAGGGACATAGATGGGAGCTCTGATTCCCGTG...  \n",
       "12322  A11283  CTCCGTCGACGCTTTAGGGACATAGATGGGAGCTCTGATTCCCGTG...  \n",
       "6483   A14853  CTCCGTCGACGCTTTAGGGACATAGATGGGAGCTCTGATTCCCGTG...  "
      ]
     },
     "execution_count": 15,
     "metadata": {},
     "output_type": "execute_result"
    }
   ],
   "source": [
    "parent_child_merge_mother.sample(10)"
   ]
  },
  {
   "cell_type": "code",
   "execution_count": 16,
   "metadata": {},
   "outputs": [
    {
     "data": {
      "text/html": [
       "<div>\n",
       "<style scoped>\n",
       "    .dataframe tbody tr th:only-of-type {\n",
       "        vertical-align: middle;\n",
       "    }\n",
       "\n",
       "    .dataframe tbody tr th {\n",
       "        vertical-align: top;\n",
       "    }\n",
       "\n",
       "    .dataframe thead th {\n",
       "        text-align: right;\n",
       "    }\n",
       "</style>\n",
       "<table border=\"1\" class=\"dataframe\">\n",
       "  <thead>\n",
       "    <tr style=\"text-align: right;\">\n",
       "      <th></th>\n",
       "      <th>Name</th>\n",
       "      <th>Parent_full_DNA_Seq</th>\n",
       "      <th>Child_full_DNA_Seq</th>\n",
       "    </tr>\n",
       "  </thead>\n",
       "  <tbody>\n",
       "    <tr>\n",
       "      <th>0</th>\n",
       "      <td>A0</td>\n",
       "      <td>CTCCGTCGACGCTTTAGGGACATAGATGGGAGCTCTGATTCCCGTG...</td>\n",
       "      <td>CTCCGTCGACGCTTTAGGGACATAGATGGGAGCTCTGATTTCCGTG...</td>\n",
       "    </tr>\n",
       "    <tr>\n",
       "      <th>1</th>\n",
       "      <td>A0</td>\n",
       "      <td>CTCCGTCGACGCTTTAGGGACATAGATGGGAGCTCTGATTCCCGTG...</td>\n",
       "      <td>CTCCGTCGACGCTTTAGGGACATAGATGGGAGCTCTGATTTCCGTG...</td>\n",
       "    </tr>\n",
       "    <tr>\n",
       "      <th>2</th>\n",
       "      <td>A0</td>\n",
       "      <td>CTCCGTCGACGCTTTAGGGACATAGATGGGAGCTCTGATTCCCGTG...</td>\n",
       "      <td>CTCCGTCGACGCTTTAGGGACATAGATGGGAGCTCTGACTCCCGTG...</td>\n",
       "    </tr>\n",
       "    <tr>\n",
       "      <th>3</th>\n",
       "      <td>A0</td>\n",
       "      <td>CTCCGTCGACGCTTTAGGGACATAGATGGGAGCTCTGATTCCCGTG...</td>\n",
       "      <td>CTCCGTCGACGCTTTAGGGACATAGATGGGAGCTCTGATTTCCGTG...</td>\n",
       "    </tr>\n",
       "    <tr>\n",
       "      <th>4</th>\n",
       "      <td>A1</td>\n",
       "      <td>CTCCGTCGACGCTTTAGGGACATAGATGGGAGCTCTGATTCCCGTG...</td>\n",
       "      <td>CTCCGTCGACGCTTTAGGGACATAGATGGGAGCTCTGATTCCCGTG...</td>\n",
       "    </tr>\n",
       "    <tr>\n",
       "      <th>...</th>\n",
       "      <td>...</td>\n",
       "      <td>...</td>\n",
       "      <td>...</td>\n",
       "    </tr>\n",
       "    <tr>\n",
       "      <th>21887</th>\n",
       "      <td>A14988</td>\n",
       "      <td>CTCCGTCGACGCTTTAGGGACATAGATGGGAGCTCTGATTCCCGTG...</td>\n",
       "      <td>CTCCGTCGACGCTTTAGGGACATAGATGGGAGCTCTGATTCCCGTG...</td>\n",
       "    </tr>\n",
       "    <tr>\n",
       "      <th>21888</th>\n",
       "      <td>A14988</td>\n",
       "      <td>CTCCGTCGACGCTTTAGGGACATAGATGGGAGCTCTGATTCCCGTG...</td>\n",
       "      <td>CTCCGTCGACGCTTTAGGGACATAGATGGGAGCTCTGATTCCCGTG...</td>\n",
       "    </tr>\n",
       "    <tr>\n",
       "      <th>21889</th>\n",
       "      <td>A14988</td>\n",
       "      <td>CTCCGTCGACGCTTTAGGGACATAGATGGGAGCTCTGATTCCCGTG...</td>\n",
       "      <td>CTCCGTCGACGCTTTAGGGACATAGATGGGAGCTCTGATTCCCGTG...</td>\n",
       "    </tr>\n",
       "    <tr>\n",
       "      <th>21890</th>\n",
       "      <td>A14988</td>\n",
       "      <td>CTCCGTCGACGCTTTAGGGACATAGATGGGAGCTCTGATTCCCGTG...</td>\n",
       "      <td>CTCCGTCGACGCTTTAGGGACATAGATGGGAGCTCTGATTCCCGTG...</td>\n",
       "    </tr>\n",
       "    <tr>\n",
       "      <th>21891</th>\n",
       "      <td>A14988</td>\n",
       "      <td>CTCCGTCGACGCTTTAGGGACATAGATGGGAGCTCTGATTCCCGTG...</td>\n",
       "      <td>CTCCGTCGACGCTTTAGGGACATAGATGGGAGCTCTGATTCCCGTG...</td>\n",
       "    </tr>\n",
       "  </tbody>\n",
       "</table>\n",
       "<p>21892 rows × 3 columns</p>\n",
       "</div>"
      ],
      "text/plain": [
       "         Name                                Parent_full_DNA_Seq  \\\n",
       "0          A0  CTCCGTCGACGCTTTAGGGACATAGATGGGAGCTCTGATTCCCGTG...   \n",
       "1          A0  CTCCGTCGACGCTTTAGGGACATAGATGGGAGCTCTGATTCCCGTG...   \n",
       "2          A0  CTCCGTCGACGCTTTAGGGACATAGATGGGAGCTCTGATTCCCGTG...   \n",
       "3          A0  CTCCGTCGACGCTTTAGGGACATAGATGGGAGCTCTGATTCCCGTG...   \n",
       "4          A1  CTCCGTCGACGCTTTAGGGACATAGATGGGAGCTCTGATTCCCGTG...   \n",
       "...       ...                                                ...   \n",
       "21887  A14988  CTCCGTCGACGCTTTAGGGACATAGATGGGAGCTCTGATTCCCGTG...   \n",
       "21888  A14988  CTCCGTCGACGCTTTAGGGACATAGATGGGAGCTCTGATTCCCGTG...   \n",
       "21889  A14988  CTCCGTCGACGCTTTAGGGACATAGATGGGAGCTCTGATTCCCGTG...   \n",
       "21890  A14988  CTCCGTCGACGCTTTAGGGACATAGATGGGAGCTCTGATTCCCGTG...   \n",
       "21891  A14988  CTCCGTCGACGCTTTAGGGACATAGATGGGAGCTCTGATTCCCGTG...   \n",
       "\n",
       "                                      Child_full_DNA_Seq  \n",
       "0      CTCCGTCGACGCTTTAGGGACATAGATGGGAGCTCTGATTTCCGTG...  \n",
       "1      CTCCGTCGACGCTTTAGGGACATAGATGGGAGCTCTGATTTCCGTG...  \n",
       "2      CTCCGTCGACGCTTTAGGGACATAGATGGGAGCTCTGACTCCCGTG...  \n",
       "3      CTCCGTCGACGCTTTAGGGACATAGATGGGAGCTCTGATTTCCGTG...  \n",
       "4      CTCCGTCGACGCTTTAGGGACATAGATGGGAGCTCTGATTCCCGTG...  \n",
       "...                                                  ...  \n",
       "21887  CTCCGTCGACGCTTTAGGGACATAGATGGGAGCTCTGATTCCCGTG...  \n",
       "21888  CTCCGTCGACGCTTTAGGGACATAGATGGGAGCTCTGATTCCCGTG...  \n",
       "21889  CTCCGTCGACGCTTTAGGGACATAGATGGGAGCTCTGATTCCCGTG...  \n",
       "21890  CTCCGTCGACGCTTTAGGGACATAGATGGGAGCTCTGATTCCCGTG...  \n",
       "21891  CTCCGTCGACGCTTTAGGGACATAGATGGGAGCTCTGATTCCCGTG...  \n",
       "\n",
       "[21892 rows x 3 columns]"
      ]
     },
     "execution_count": 16,
     "metadata": {},
     "output_type": "execute_result"
    }
   ],
   "source": [
    "cleaned_data_first_part = parent_child_merge_father.drop(columns=['ParentM', 'ParentF'])\n",
    "cleaned_data_first_part"
   ]
  },
  {
   "cell_type": "code",
   "execution_count": 17,
   "metadata": {},
   "outputs": [],
   "source": [
    "first_merged_df= pd.concat([cleaned_data_first_part, parent_child_merge_mother])"
   ]
  },
  {
   "cell_type": "markdown",
   "metadata": {},
   "source": [
    "-----"
   ]
  },
  {
   "cell_type": "markdown",
   "metadata": {},
   "source": [
    "## Verify results "
   ]
  },
  {
   "cell_type": "markdown",
   "metadata": {},
   "source": [
    "-----"
   ]
  },
  {
   "cell_type": "code",
   "execution_count": 18,
   "metadata": {},
   "outputs": [
    {
     "data": {
      "text/html": [
       "<div>\n",
       "<style scoped>\n",
       "    .dataframe tbody tr th:only-of-type {\n",
       "        vertical-align: middle;\n",
       "    }\n",
       "\n",
       "    .dataframe tbody tr th {\n",
       "        vertical-align: top;\n",
       "    }\n",
       "\n",
       "    .dataframe thead th {\n",
       "        text-align: right;\n",
       "    }\n",
       "</style>\n",
       "<table border=\"1\" class=\"dataframe\">\n",
       "  <thead>\n",
       "    <tr style=\"text-align: right;\">\n",
       "      <th></th>\n",
       "      <th>Name</th>\n",
       "      <th>Gender</th>\n",
       "      <th>ParentM</th>\n",
       "      <th>ParentF</th>\n",
       "      <th>EthA</th>\n",
       "      <th>EthE</th>\n",
       "      <th>EthK</th>\n",
       "      <th>EthP</th>\n",
       "      <th>Allele1</th>\n",
       "      <th>Allele2</th>\n",
       "    </tr>\n",
       "  </thead>\n",
       "  <tbody>\n",
       "    <tr>\n",
       "      <th>13904</th>\n",
       "      <td>A13904</td>\n",
       "      <td>F</td>\n",
       "      <td>Na</td>\n",
       "      <td>Na</td>\n",
       "      <td>1</td>\n",
       "      <td>0</td>\n",
       "      <td>0</td>\n",
       "      <td>0</td>\n",
       "      <td>CTCCGTCGACGCTTTAGGGACATAGATGGGAGCTCTGACTCCCGTG...</td>\n",
       "      <td>CTCCGTCGACGCTTTAGGGACATAGATGGGAGCTCTGATTCCCGTG...</td>\n",
       "    </tr>\n",
       "  </tbody>\n",
       "</table>\n",
       "</div>"
      ],
      "text/plain": [
       "         Name Gender ParentM ParentF  EthA  EthE  EthK  EthP  \\\n",
       "13904  A13904      F      Na      Na     1     0     0     0   \n",
       "\n",
       "                                                 Allele1  \\\n",
       "13904  CTCCGTCGACGCTTTAGGGACATAGATGGGAGCTCTGACTCCCGTG...   \n",
       "\n",
       "                                                 Allele2  \n",
       "13904  CTCCGTCGACGCTTTAGGGACATAGATGGGAGCTCTGATTCCCGTG...  "
      ]
     },
     "execution_count": 18,
     "metadata": {},
     "output_type": "execute_result"
    }
   ],
   "source": [
    "raw_df_parent [raw_df_parent['Name'] == 'A13904']"
   ]
  },
  {
   "cell_type": "code",
   "execution_count": 19,
   "metadata": {},
   "outputs": [
    {
     "data": {
      "text/html": [
       "<div>\n",
       "<style scoped>\n",
       "    .dataframe tbody tr th:only-of-type {\n",
       "        vertical-align: middle;\n",
       "    }\n",
       "\n",
       "    .dataframe tbody tr th {\n",
       "        vertical-align: top;\n",
       "    }\n",
       "\n",
       "    .dataframe thead th {\n",
       "        text-align: right;\n",
       "    }\n",
       "</style>\n",
       "<table border=\"1\" class=\"dataframe\">\n",
       "  <thead>\n",
       "    <tr style=\"text-align: right;\">\n",
       "      <th></th>\n",
       "      <th>Name</th>\n",
       "      <th>Parent_full_DNA_Seq</th>\n",
       "      <th>Child_full_DNA_Seq</th>\n",
       "      <th>ParentM</th>\n",
       "      <th>ParentF</th>\n",
       "    </tr>\n",
       "  </thead>\n",
       "  <tbody>\n",
       "    <tr>\n",
       "      <th>0</th>\n",
       "      <td>A0</td>\n",
       "      <td>CTCCGTCGACGCTTTAGGGACATAGATGGGAGCTCTGATTCCCGTG...</td>\n",
       "      <td>CTCCGTCGACGCTTTAGGGACATAGATGGGAGCTCTGATTTCCGTG...</td>\n",
       "      <td>NaN</td>\n",
       "      <td>NaN</td>\n",
       "    </tr>\n",
       "    <tr>\n",
       "      <th>1</th>\n",
       "      <td>A0</td>\n",
       "      <td>CTCCGTCGACGCTTTAGGGACATAGATGGGAGCTCTGATTCCCGTG...</td>\n",
       "      <td>CTCCGTCGACGCTTTAGGGACATAGATGGGAGCTCTGATTTCCGTG...</td>\n",
       "      <td>NaN</td>\n",
       "      <td>NaN</td>\n",
       "    </tr>\n",
       "    <tr>\n",
       "      <th>2</th>\n",
       "      <td>A0</td>\n",
       "      <td>CTCCGTCGACGCTTTAGGGACATAGATGGGAGCTCTGATTCCCGTG...</td>\n",
       "      <td>CTCCGTCGACGCTTTAGGGACATAGATGGGAGCTCTGACTCCCGTG...</td>\n",
       "      <td>NaN</td>\n",
       "      <td>NaN</td>\n",
       "    </tr>\n",
       "    <tr>\n",
       "      <th>3</th>\n",
       "      <td>A0</td>\n",
       "      <td>CTCCGTCGACGCTTTAGGGACATAGATGGGAGCTCTGATTCCCGTG...</td>\n",
       "      <td>CTCCGTCGACGCTTTAGGGACATAGATGGGAGCTCTGATTTCCGTG...</td>\n",
       "      <td>NaN</td>\n",
       "      <td>NaN</td>\n",
       "    </tr>\n",
       "    <tr>\n",
       "      <th>4</th>\n",
       "      <td>A1</td>\n",
       "      <td>CTCCGTCGACGCTTTAGGGACATAGATGGGAGCTCTGATTCCCGTG...</td>\n",
       "      <td>CTCCGTCGACGCTTTAGGGACATAGATGGGAGCTCTGATTCCCGTG...</td>\n",
       "      <td>NaN</td>\n",
       "      <td>NaN</td>\n",
       "    </tr>\n",
       "    <tr>\n",
       "      <th>...</th>\n",
       "      <td>...</td>\n",
       "      <td>...</td>\n",
       "      <td>...</td>\n",
       "      <td>...</td>\n",
       "      <td>...</td>\n",
       "    </tr>\n",
       "    <tr>\n",
       "      <th>21887</th>\n",
       "      <td>A14997</td>\n",
       "      <td>CTCCGTCGACGCTTTAGGGACATAGATGGGAGCTCTGATTCCCGTG...</td>\n",
       "      <td>CTCCGTCGACGCTTTAGGGACATAGATGGGAGCTCTGATTCCCGTG...</td>\n",
       "      <td>A14997</td>\n",
       "      <td>A1357</td>\n",
       "    </tr>\n",
       "    <tr>\n",
       "      <th>21888</th>\n",
       "      <td>A14997</td>\n",
       "      <td>CTCCGTCGACGCTTTAGGGACATAGATGGGAGCTCTGATTCCCGTG...</td>\n",
       "      <td>CTCCGTCGACGCTTTAGGGACATAGATGGGAGCTCTGATTCCCGTG...</td>\n",
       "      <td>A14997</td>\n",
       "      <td>A4244</td>\n",
       "    </tr>\n",
       "    <tr>\n",
       "      <th>21889</th>\n",
       "      <td>A14997</td>\n",
       "      <td>CTCCGTCGACGCTTTAGGGACATAGATGGGAGCTCTGATTCCCGTG...</td>\n",
       "      <td>CTCCGTCGACGCTTTAGGGACATAGATGGGAGCTCTGATTCCCGTG...</td>\n",
       "      <td>A14997</td>\n",
       "      <td>A4244</td>\n",
       "    </tr>\n",
       "    <tr>\n",
       "      <th>21890</th>\n",
       "      <td>A14997</td>\n",
       "      <td>CTCCGTCGACGCTTTAGGGACATAGATGGGAGCTCTGATTCCCGTG...</td>\n",
       "      <td>CTCCGTCGACGCTTTAGGGACATAGATGGGAGCTCTGATTCCCGTG...</td>\n",
       "      <td>A14997</td>\n",
       "      <td>A4244</td>\n",
       "    </tr>\n",
       "    <tr>\n",
       "      <th>21891</th>\n",
       "      <td>A14997</td>\n",
       "      <td>CTCCGTCGACGCTTTAGGGACATAGATGGGAGCTCTGATTCCCGTG...</td>\n",
       "      <td>CTCCGTCGACGCTTTAGGGACATAGATGGGAGCTCTGATTCCCGTG...</td>\n",
       "      <td>A14997</td>\n",
       "      <td>A4244</td>\n",
       "    </tr>\n",
       "  </tbody>\n",
       "</table>\n",
       "<p>43784 rows × 5 columns</p>\n",
       "</div>"
      ],
      "text/plain": [
       "         Name                                Parent_full_DNA_Seq  \\\n",
       "0          A0  CTCCGTCGACGCTTTAGGGACATAGATGGGAGCTCTGATTCCCGTG...   \n",
       "1          A0  CTCCGTCGACGCTTTAGGGACATAGATGGGAGCTCTGATTCCCGTG...   \n",
       "2          A0  CTCCGTCGACGCTTTAGGGACATAGATGGGAGCTCTGATTCCCGTG...   \n",
       "3          A0  CTCCGTCGACGCTTTAGGGACATAGATGGGAGCTCTGATTCCCGTG...   \n",
       "4          A1  CTCCGTCGACGCTTTAGGGACATAGATGGGAGCTCTGATTCCCGTG...   \n",
       "...       ...                                                ...   \n",
       "21887  A14997  CTCCGTCGACGCTTTAGGGACATAGATGGGAGCTCTGATTCCCGTG...   \n",
       "21888  A14997  CTCCGTCGACGCTTTAGGGACATAGATGGGAGCTCTGATTCCCGTG...   \n",
       "21889  A14997  CTCCGTCGACGCTTTAGGGACATAGATGGGAGCTCTGATTCCCGTG...   \n",
       "21890  A14997  CTCCGTCGACGCTTTAGGGACATAGATGGGAGCTCTGATTCCCGTG...   \n",
       "21891  A14997  CTCCGTCGACGCTTTAGGGACATAGATGGGAGCTCTGATTCCCGTG...   \n",
       "\n",
       "                                      Child_full_DNA_Seq ParentM ParentF  \n",
       "0      CTCCGTCGACGCTTTAGGGACATAGATGGGAGCTCTGATTTCCGTG...     NaN     NaN  \n",
       "1      CTCCGTCGACGCTTTAGGGACATAGATGGGAGCTCTGATTTCCGTG...     NaN     NaN  \n",
       "2      CTCCGTCGACGCTTTAGGGACATAGATGGGAGCTCTGACTCCCGTG...     NaN     NaN  \n",
       "3      CTCCGTCGACGCTTTAGGGACATAGATGGGAGCTCTGATTTCCGTG...     NaN     NaN  \n",
       "4      CTCCGTCGACGCTTTAGGGACATAGATGGGAGCTCTGATTCCCGTG...     NaN     NaN  \n",
       "...                                                  ...     ...     ...  \n",
       "21887  CTCCGTCGACGCTTTAGGGACATAGATGGGAGCTCTGATTCCCGTG...  A14997   A1357  \n",
       "21888  CTCCGTCGACGCTTTAGGGACATAGATGGGAGCTCTGATTCCCGTG...  A14997   A4244  \n",
       "21889  CTCCGTCGACGCTTTAGGGACATAGATGGGAGCTCTGATTCCCGTG...  A14997   A4244  \n",
       "21890  CTCCGTCGACGCTTTAGGGACATAGATGGGAGCTCTGATTCCCGTG...  A14997   A4244  \n",
       "21891  CTCCGTCGACGCTTTAGGGACATAGATGGGAGCTCTGATTCCCGTG...  A14997   A4244  \n",
       "\n",
       "[43784 rows x 5 columns]"
      ]
     },
     "execution_count": 19,
     "metadata": {},
     "output_type": "execute_result"
    }
   ],
   "source": [
    "first_merged_df"
   ]
  },
  {
   "cell_type": "markdown",
   "metadata": {},
   "source": [
    "-----"
   ]
  },
  {
   "cell_type": "markdown",
   "metadata": {},
   "source": [
    "# Export Data "
   ]
  },
  {
   "cell_type": "markdown",
   "metadata": {},
   "source": [
    "-----"
   ]
  },
  {
   "cell_type": "code",
   "execution_count": 20,
   "metadata": {},
   "outputs": [],
   "source": [
    "first_merged_df.to_pickle(EXPORT_PATH)"
   ]
  }
 ],
 "metadata": {
  "kernelspec": {
   "display_name": "base",
   "language": "python",
   "name": "python3"
  },
  "language_info": {
   "codemirror_mode": {
    "name": "ipython",
    "version": 3
   },
   "file_extension": ".py",
   "mimetype": "text/x-python",
   "name": "python",
   "nbconvert_exporter": "python",
   "pygments_lexer": "ipython3",
   "version": "3.9.13"
  }
 },
 "nbformat": 4,
 "nbformat_minor": 2
}
